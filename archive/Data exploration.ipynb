{
 "cells": [
  {
   "cell_type": "code",
   "execution_count": 1,
   "source": [
    "# always run\r\n",
    "from random import randint\r\n",
    "import json, stanza"
   ],
   "outputs": [],
   "metadata": {}
  },
  {
   "cell_type": "markdown",
   "source": [
    "# Data Wrangling"
   ],
   "metadata": {}
  },
  {
   "cell_type": "code",
   "execution_count": 2,
   "source": [
    "x = 0\r\n",
    "file = json.load(open(f'database_dump_drugs/{x}.json'))\r\n",
    "print(file[0]['article_content'])"
   ],
   "outputs": [
    {
     "output_type": "error",
     "ename": "FileNotFoundError",
     "evalue": "[Errno 2] No such file or directory: 'database_dump_drugs/0.json'",
     "traceback": [
      "\u001b[1;31m---------------------------------------------------------------------------\u001b[0m",
      "\u001b[1;31mFileNotFoundError\u001b[0m                         Traceback (most recent call last)",
      "\u001b[1;32m~\\AppData\\Local\\Temp/ipykernel_6372/1668564975.py\u001b[0m in \u001b[0;36m<module>\u001b[1;34m\u001b[0m\n\u001b[0;32m      1\u001b[0m \u001b[0mx\u001b[0m \u001b[1;33m=\u001b[0m \u001b[1;36m0\u001b[0m\u001b[1;33m\u001b[0m\u001b[1;33m\u001b[0m\u001b[0m\n\u001b[1;32m----> 2\u001b[1;33m \u001b[0mfile\u001b[0m \u001b[1;33m=\u001b[0m \u001b[0mjson\u001b[0m\u001b[1;33m.\u001b[0m\u001b[0mload\u001b[0m\u001b[1;33m(\u001b[0m\u001b[0mopen\u001b[0m\u001b[1;33m(\u001b[0m\u001b[1;34mf'database_dump_drugs/{x}.json'\u001b[0m\u001b[1;33m)\u001b[0m\u001b[1;33m)\u001b[0m\u001b[1;33m\u001b[0m\u001b[1;33m\u001b[0m\u001b[0m\n\u001b[0m\u001b[0;32m      3\u001b[0m \u001b[0mprint\u001b[0m\u001b[1;33m(\u001b[0m\u001b[0mfile\u001b[0m\u001b[1;33m[\u001b[0m\u001b[1;36m0\u001b[0m\u001b[1;33m]\u001b[0m\u001b[1;33m[\u001b[0m\u001b[1;34m'article_content'\u001b[0m\u001b[1;33m]\u001b[0m\u001b[1;33m)\u001b[0m\u001b[1;33m\u001b[0m\u001b[1;33m\u001b[0m\u001b[0m\n",
      "\u001b[1;31mFileNotFoundError\u001b[0m: [Errno 2] No such file or directory: 'database_dump_drugs/0.json'"
     ]
    }
   ],
   "metadata": {}
  },
  {
   "cell_type": "code",
   "execution_count": null,
   "source": [
    "# proof that article_content == article_contentRaw\r\n",
    "\r\n",
    "duplicates = 0\r\n",
    "aes = []\r\n",
    "\r\n",
    "for x in range(100):\r\n",
    "    file = open(f'database_dump_drugs/{x}.json',)\r\n",
    "    articles = json.load(file)\r\n",
    "    if x % 100 == 0:\r\n",
    "        print(f'At json file {x} of 1571')\r\n",
    "    for y in range(len(articles)):\r\n",
    "        if articles[y]['article_content'] in aes:\r\n",
    "            duplicates += 1\r\n",
    "            print(f'Hit at json file {x} in article {y}')\r\n",
    "        aes.append(articles[y]['article_content'])\r\n",
    "\r\n",
    "print(duplicates, len(aes))"
   ],
   "outputs": [],
   "metadata": {
    "scrolled": true
   }
  },
  {
   "cell_type": "code",
   "execution_count": null,
   "source": [
    "print(duplicates, len(aes))"
   ],
   "outputs": [
    {
     "output_type": "stream",
     "name": "stdout",
     "text": [
      "35609 50000\n"
     ]
    }
   ],
   "metadata": {}
  },
  {
   "cell_type": "markdown",
   "source": [
    "So we have 35609 unique articles in the dataset out of the 50000 original ones. "
   ],
   "metadata": {}
  },
  {
   "cell_type": "code",
   "execution_count": null,
   "source": [
    "for x in range(10):\r\n",
    "    js = randint(0, 1571)\r\n",
    "    file = json.load(open(f'database_dump_drugs/{x}.json'))\r\n",
    "    art = randint(0, len(file))\r\n",
    "    print(file[art]['article_content'])\r\n",
    "    print(\"\")\r\n",
    "    print(\"\")\r\n",
    "    print(\"\")"
   ],
   "outputs": [
    {
     "output_type": "stream",
     "name": "stdout",
     "text": [
      "Glasgow drugs recovery linked to Orkney Drugs Dog support\n",
      "October 23, 2020 at 10:16 am\n",
      "POLICE say that a 24-year-old woman has been charged following the recovery of Class A drugs in Glasgow, linked to intelligence received by officers in Orkney.\n",
      "Local officers from the Kirkwall Community Policing Team launched an investigation into suspected drug offences and were assisted by the charity Orkney Drugs Dog, as well as Police Scotland colleagues in Greater Glasgow Police Division.\n",
      "A warrant was executed in the Possilpark area of the city on Monday, October 19, and a quantity of drugs with an estimated ‘street’ value in excess of £10,000 were recovered. The woman, from Glasgow, has been reported to the Procurator Fiscal.\n",
      "Area Commander for Orkney, Chief Inspector Matt Webb, said: “Police Scotland is absolutely committed to acting on information provided by the public to reduce the availability of drugs in our community and minimise the harm they cause. Thankfully a significant quantity of illegal drugs bound for streets throughout Scotland have now been seized and I would like to thank Orkney Drugs Dog for their continuing detection and deterrent work – the charity has a significant impact in minimising harm not only locally, but in communities nationwide.\n",
      "“Zoe and her handler are not only committed to detecting and stopping people transporting drugs to Orkney, but carry out a fantastic programme of drugs education and prevention in schools and to other groups. I cannot praise the charity enough for the contribution they make to helping keep our community a safe place to live.”\n",
      "Orkney Drugs Dog’s vice chairwoman, Sylvia Robertson added: “Thanks to the valued support of Orkney Alcohol and Drugs Partnership and our local community, we are proud to continue playing our part in reducing the supply of drugs within Orkney and the rest of Scotland, helping to keep future generations safe.”\n",
      "Share this:\n",
      "Tweet\n",
      "\n",
      "\n",
      "\n",
      "CORK, Ireland - In an operation targeting trafficking of drugs, officers from the Midleton District Drugs Unit, a house in Magners Hill, Youghal was searched on Wednesday night.\n",
      "Officers said that they had searched a house in the area at about 7 pm on Wednesday, where they discovered a large haul of drugs.\n",
      "The Midleton District Drugs Unit revealed that they had seized cannabis herb worth 32,000 euros at the premises.\n",
      "Further adding that a man in his 20s was arrested at the location following the seizure.\n",
      "The man has been detained at the Cobh Garda Station under Section 2 of the Criminal Justice (Drug Trafficking) Act 1996.\n",
      "Officials said that the man was subsequently charged and will appear before the Youghal District Court.\n",
      "\n",
      "\n",
      "\n",
      "On January 21, Omar Sadr got off his taxi at a roadblock and walked the remaining distance to work. In the foreground, he could see smoke billowing. The siege at Intercontinental Hotel was on. A cold dread gripped Sadr, a young researcher at the Afghan Institute of Strategic Studies. “I felt my life was under threat. I felt unsafe. And, I felt terror,” he said. Six days later, an ambulance exploded at a spot he had passed by only a few hours earlier. The toll is 100 and counting. “Luck and timing, that saved me,” he said.\n",
      "Kabul is one of the most dangerous cities in the world, and every resident here has been exposed to terror, up close and personal. Everyone knows someone who was killed, or maimed, in a blast. Danger takes myriad forms. There is terror. There are bounty hunters, waiting to grab a ransomable prey. They are known to chop off and send bits of fingers and ears to frighten families and employers into paying up. Few have compunctions about bumping off a “worthless” victim. And, then, there are the petty thieves, driven by unemployment or drug addiction, who will kill for a few Afghanis. This is our life, we are inured to it, say residents.\n",
      "Sadr’s resilience has weakened considerably, though. He has returned from a six-year stay in India, and he remembers his erstwhile residence in notorious Gurgaon as a safe haven in comparison with the chaos in Kabul. Sadr has returned with a wife, Rashmi Dangol, from Nepal, whom he met while studying at the South Asian University in Delhi. Rashmi—who got a job at the Afghanistan Centre at Kabul University before him, and happily joined her in-laws months before he moved back—seems to have adjusted rather well to Kabul. Sadr is wracked with fear, misgivings and guilt. This was his hell; has he jeopardised Rashmi’s life, too?\n",
      "There are fresh intelligence alerts that Kabul University is a probable target and that foreign employees are under great threat. In fact, a new alert even warns of possible attacks in shopping areas frequented by foreigners. As with all intelligence warnings, the frustrating bit is that one seldom knows when, and exactly where.\n",
      "Business as usual: A bazaar in Kabul.\n",
      "The security scene in Afghanistan has never been good in living memory, but the deterioration over the past three years is particularly worrisome. Ever since the US began withdrawing forces, matters have been spiralling downwards. “The T-walls are getting higher, the number of soft skin cars fewer,” said Noorjehan Mawani, diplomatic representative of the Aga Khan Development Network to Afghanistan.\n",
      "The streets of Kabul are a maze of concrete barricades. There are T-walls, which are portable, steel-reinforced concrete blast walls that are 12-foot high. It is said the new 20-foot ones cost a thousand dollars apiece. At the more vulnerable areas, the police have set up “rings of steel”. Entry to government buildings and hotels are complicated processes, involving narrow openings between barricades, and numerous checks through metal detectors and security rooms made of four-inch thick, bomb-proof metal.\n",
      "A parade of uniforms are on display everywhere—each police, military and private security personnel wielding nothing less than a lethal Kalashnikov. Showrooms for armoured cars have opened, and vehicles of the National Directorate of Security, the country’s premier intelligence arm, patrol the roads. Up in the sky floats a giant balloon, which local people say, is for surveillance.\n",
      "None of these measures have lulled the city into feeling safe. The more the security, the worse the attack. Like the powerful truck bomb that went off near the German embassy last May, killing 150 and injuring more than 400. The city is studded with damaged buildings that no one has had the energy, or money, to rebuild.\n",
      "Enforcing order: A policeman waving children away from a secure area in Kabul.\n",
      "The latest attack on the military academy on January 29, a day that Afghanistan had set aside for national mourning, has left a country inured to mindless violence shellshocked. After the ambulance bomb attack on January 27, Kabul actually turned into a ghost town, as even the most resilient feared to step out. There is not much defence against a fidayeen attack. The suicide bomber is programmed to blow himself up the moment he is caught, never mind that the resultant casualties are not the intended target.\n",
      "Though Taliban claims that it targets “invaders” and government officials, and not civilians (see interview on page 36), collateral damage is high. The January 27 attack is a case in point. “Every day, when I leave home for work, I bid my family farewell as if I may never return. I have no hope of seeing peace in my country,” said Mir Abdul Wahed Hashimi, who works with Internews, a nonprofit organisation that focuses on media solutions and research. “I remember my father listening to BBC Radio 35 years ago, when the Soviets withdrew. He said there would be peace now. Then we heard about the UN representative talking to the Mujahideen, and thought, now we would have peace. Instead, we got Taliban and more war. When technocrats returned, we thought, finally we would have peace. Taliban is still active, and Islamic State has entered Afghanistan. No, I don’t see peace anytime soon.”\n",
      "Winter is usually a time of low terrorist activity, because that is when new recruits are sent to training camps in Pakistan, say local people. This winter has been different, though. There were three massacres in ten days in Kabul, and lethal explosions in Jalalabad, and Kandahar and Herat provinces. The Kabul attacks were so terrible that the nation declared a day of mourning. Sources say the situation will worsen as Afghanistan gets closer to its next general election, due in July this year.\n",
      "The past three years have dealt multiple blows to the country. Apart from a worsening security situation, Afghanistan’s economy has been hit. With one lakh foreign soldiers gone, ancillary jobs for local people have dried up. The change in fortunes is starkly evident at Bush Bazar (named after the former US president), once a grey market for supplies pilfered from military stores, and hand-me-downs from the barracks. You could buy US army shoes, vests and an assortment of canned food there. Today, the market sells Chinese products.\n",
      "Bold and beautiful: Women walk a street in Kabul lined with beauty parlours.\n",
      "The US now has around 14,000 soldiers in Afghanistan, mostly noncombatants. President Donald Trump’s decision to step up presence again is yet to get rolling. With soldiers departing, several international aid organisations moved out, too, spurring further unemployment. Now, even a labourer’s vacancy attracts throngs of applicants elbowing each other.\n",
      "A country barely able to deal with its injured, has little time or money for dealing with mental problems. Stress levels are high here, but terms like post-traumatic stress disorder are unheard of. Little wonder, then, that heroin addiction is on the rise, further fuelled by unemployment. The Pul-i-Sokhta bridge in Kabul illustrates this crisis. Below it, addicts, dishevelled, dazed and dangerous, smoke and inject themselves, while locals lean over the bridge to watch the horrible sight. Opium cultivation is on the rise in southern provinces like Helmand. Opium funds terror.\n",
      "There aren’t many statistics to come by in a country where surveys are low priority. But, the upsurge in the out-of-Afghanistan exodus is evident. Sadr remembers his circle of friends, named Giroh-e-guftagu, who used to gather for poetry sessions six years ago. Only a few are still around; most have left for the US or Europe.\n",
      "“I’ve seen couples who were doing well here, leave for menial jobs in the west. It is really sad,” said Rashmi. Those who can, take scholarships abroad, and try to remain there. Others cross over to Iran and then move illegally westwards, seeking asylum in countries like Germany and Sweden. Many are deported; they try again.\n",
      "Intercontinental Hotel, after the January 20 attack.\n",
      "As if the incessant violence is not bad enough, Afghan society is still cleaved sharply on ethnic lines, with distrust for each other. Pashtuns are the largest ethnic group. Then come Tajiks and Hazaras, followed by at least 12 major groups like Turkman, Uzbek and Khorasan, and even the last of the Sikhs, Hindus and a lone Jew.\n",
      "In the nascent democratic set up, identity politics plays out in an ugly form. Hazaras are no longer the suppressed people. Their years as refugees in Iran and Pakistan gave them access to education and new ideas. The community is on the upswing—Hazara students are usually the examination toppers. The Tajiks, always a proud and educated people, do not let anyone forget how it was their dominion, Panjsher, which was the frontline of the resistance to Taliban. The only safe road trip from Kabul is to Panjsher. It is a big thing in a country where the government has control over only 60 per cent of the area—the rest is still Taliban territory.\n",
      "The centre’s tenuous control over the land is well illustrated by Atta Muhammed Noor, who has refused to step down as governor of Balkh province, though all provincial governors were fired when President Ashraf Ghani took over in 2014. An ethnic Tajik, Noor is wealthy and hugely influential. He is also extremely popular, thanks to his good governance. Elsewhere, too, local warlords call the shots.\n",
      "The proposal to issue a national identity, or Afghan card, has become a vexing issue. The problem is that the word Afghan is interchangeable with Pashtun—something not acceptable to others. “Parliament has now accepted the proposal that after Afghan nationality, the card will also give the person’s ethnicity and religion,” said Anarkali Kaur, a senator in the upper house of parliament.\n",
      "Omar Sadr\n",
      "But, the matter will not be easily resolved. Because, apart from the main ethnicities, there are several subgroups, cataloguing all of which will seem like a taxonomy chart. “Why can’t we be like India, where so many different people live together, and yet, proudly call themselves Indians,” asked Mina, an undergraduate student at Kabul’s American University.\n",
      "Said Mawani: “The biggest risk to a country is ethnicisation of politics.” She, however, pointed out that there were two ways of looking at Afghanistan. Admittedly, the security scene is deteriorating, but the country has made progress on several demographic parameters. “Fifteen years ago, there was no concept of a doctor in Bamyan,” she said. “Today, it has an ISO-certified hospital. Kabul’s FMIC hospital even has a neonatal surgical unit and, what’s more, Afghan doctors are now running the show.”\n",
      "Mawani said that, in the initial post-Taliban years, the focus was on numbers—school enrolments, for instance. The attention is now gradually shifting to quality, too.\n",
      "It is a difficult journey for Afghanistan. For every single step it takes towards progress, it is pulled back ten. A new script of geopolitics is playing out in the country, where almost every country in the world wants to have a role. The US, having fought a weary 16-year war, wants out; yet, doesn’t want to be out.\n",
      "Ghani said that without American help, the Afghan military would last just six months. Russia feels that engaging with Taliban is the route to peace. For the Afghan people, however, peace and security remain a mirage. Will they ever achieve it? “Peace is a process,” said Kaur. “We are all working towards it. It may take time, but one day, we will get it. Look at Sri Lanka. They managed, didn’t they?”\n",
      "\n",
      "\n",
      "\n",
      "The United Nations Office on Drugs and Crime (UNODC) has called on the Nigerian government to arrest the increasingly widespread use of pharmaceutical drugs among the country's youths. The call was made in a memorandum sent to the National Assembly. Dated 26 March. The memo said available evidence shows that Tramadol and Codeine are the most abused pharmaceutical substances.\n",
      "According to the UNODC, reported cases and anecdotal evidence indicate a steady rise in the non-medical use of pharmaceutical preparations among Nigerian youths. The full range of the problem is not yet known because there is yet no statistical data on the trend.\n",
      "The UNODC disclosed that along with the Federal Ministry of Health and other national partners it conducted a National Drug Use Survey between 2016 and 2017 to establish by evidence what the actual situation of drug use in the country is. The report of the survey, funded by the European Union (EU), will be released before the end of this year.\n",
      "\"The result of the National Drug Use Survey will assist policymakers in identifying which drugs are used, the geography of use and the prevalence of drug use. With this evidence, policymakers will be better able to make informed and targeted interventions to address issues identified by the study,\" said the UNODC.\n",
      "It explained that reports from drug regulatory agencies and media indicate that Codeine and Tramadol are the most abused substances. Quoting the Nigerian Epidemiological Network on Drug Use (NENDU) of the patients who entered treatment for opioid use, UNODC said 69% were using Tramadol and 21% were using Codeine.\n",
      "\"These drugs are reported to be abused for their narcotic effects and among the so-called 'legal highs', as they are still legally authorized for the medical use in Nigeria. These two drugs are also not under the international control, which is monitored by the International Narcotics Control Board,\" said UNODC.\n",
      "It added that this is supported by evidence of significant seizures of Tramadol at seaports and warehouses by drug control agencies as well as by similar agencies in Ghana and Niger.\n",
      "It noted the the Nigerian government has expressed concerns over the abuse of codeine and tramadol, including at the Senate Roundtable on Drug Abuse in December 2017, in Kano.\n",
      "The UNODC, however, advised the Nigerian government that despite concerns about abuse, it should consider medical needs like clinical pain treatment requirements of Nigerians. These, explained the UNODC, include cancer-related pains and non-cancer related pains such as osteoarthritis, chronic back pain, neuropathic pain, fibromyalgia.\n",
      "According to available data, added UNODC, there is an undersupply of pain medication to the country.\n",
      "\"Therefore, there is a need to strike a balance between government policy providing for adequate access to pain medication and stricter controls of pain medication including codeine and Tramadol,\" advised the UNODC.\n",
      "It urged the Nigerian government to carry out a cost-benefit analysis before stiffening controls on licit pain medications being diverted and used for non-medical purposes. Such an analysis, it explained, must consider persons requiring access to pain medication, availability of alternative pain medication of the same classification, cost of the available alternative pain medication and the possibility of misuse the available alternative.\n",
      "In addition, the analysis should consider the potential of creating underground markets if legitimate access to pain medication is denied and the related organized crime that may result to feed such underground markets; scientific quantification and estimates of the pain medication requirements of the country; adequacy of the current regulations for the monitoring and control of the distribution of pain medication; as well as adequacy of the resourcing and funding of regulatory agencies to carry out routine and non-routine inspection and monitoring of legitimate distribution chains and outlets of pain medication.\n",
      "UNODC stated that the country already a robust legal framework for the control of pharmaceutical narcotic drugs through the National Agency for Food and Drug Administration and Control Act, which created the National Agency for Food and Drug Administration and Control (NAFDAC) and defines its mandates.\n",
      "The mandates include to “undertake measures to ensure the use of narcotic drugs and psychotropic substances are limited to medical and scientific purposes” and “collaborate with the National Drug Law Enforcement Agency in measures to eradicate drug abuse in Nigeria”, provisions that empower NAFDAC to ensure the use of pharmaceutical narcotics solely for medical purposes.\n",
      "The UNODC also noted that the Counterfeit and Fake Drugs and Unwholesome Processed Foods (Miscellaneous Provisions) Act provides for the prohibition of the display and sale of drugs in unlicensed places, establishment of a Federal Task Force, chaired by NAFDAC, to coordinate the activities of State Task Forces in implementing its provisions and establishment of State Task Forces to among other things inspect premises where drugs are sold, inspect registers for the purposes of monitoring legitimate distributions of drugs and minimizing diversion of drugs.\n",
      "The Act equally provides for the establishment of a specialized Police Force Squad to assist the Federal Task Force in the enforcement of its provisions.\n",
      "\"These provisions clearly set out the required legislative and institutional frameworks to address the challenges of the diversion of pharmaceutical narcotics to non-medical uses. The only challenge seems to be in the implementation of these provisions,\" said UNODC.\n",
      "As part of its recommendations, the UNODC said the Nigerian government should gather data on drug-use disorders' prevalence and the accessibility and utilization of treatment; invest in ensuring treatment and rehabilitation are evidence-based; and allocate sufficient resources to treatment and rehabilitation, the two crucial components of demand reduction.\n",
      "It equally recommended that the government should pay particular attention to special population groups, share nationally and internationally best practices and build capacity as well as stimulate research into new interventions.\n",
      "The UNODC also recommended that the Nigerian government should use the results of the National Drug Use Survey when released, as evidence to drive its policymaking; make available adequate resources to the drug regulatory authorities, provide adequate legislative oversight over drug regulatory authorities and encourage the drug regulatory authorities to make regulations requiring all manufacturers and marketers of pharmaceutical narcotics to print labels warning users of the addictive nature and other medical side effects of the drugs.\n",
      "\"These messages should be field- tested to ensure that they effectively communicate the required message,\" said UNODC.\n",
      "It equally recommended that the Nigerian government should promote a nationwide campaign to sensitize the general public and vulnerable segment to the effect of non-medical use of pharmaceutical narcotics, including the possible inclusion of this in school health science curricula.\n",
      "It suggested that the sensitization messages must be developed using tested messages specifically targeted at parents, teachers and healthcare professionals who serve as role models.\n",
      "​\n",
      "\n",
      "\n",
      "\n",
      "Bloomberg\n",
      "(Bloomberg) -- India’s capital New Delhi extended its lockdown for another week and adopted stricter controls. The country recorded more than 4,000 coronavirus deaths for a second consecutive day Sunday.Singapore will test thousands of people as the number of infections continued to rise.Shanghai Fosun Pharmaceutical Group Co. will set up a joint venture with BioNTech SE to produce the latter’s mRNA Covid-19 vaccine in China, a sign that the highly effective inoculation is moving closer to getting approved for general use in the country.U.S. deaths from Covid-19 have been undercounted, President Joe Biden’s top medical adviser said, with the nationwide toll approaching 582,000. New cases in the U.S. dropped over the past week to the slowest pace since the end of September. Hospitalizations dipped to a seven-month low.Key DevelopmentsGlobal Tracker: Cases total 157.9 million; deaths exceed 3.28 millionVaccine Tracker: More than 1.29 billion doses have been givenCDC limits reviews of vaccinated but infected, spurring concernsUnused shots pile up as mistrust blights Hong Kong vaccine driveTens of millions plunge into poverty in Covid-ravaged IndiaTokyo gives a taste of what Covid era Olympic games will be likeSubscribe to a daily update on the virus from Bloomberg’s Prognosis team here. Click CVID on the terminal for global data on cases and deaths.Singapore to Widen Testing (11:20 a.m. HK)Singapore will test thousands of people for Covid-19 as the number of infections unlinked to current virus clusters continued to rise over the weekend. An additional 10 Covid-19 cases were reported by the country’s health ministry late on Sunday. Separately, four individuals are connected to an earlier cluster at Changi Airport and three are related to the cluster at Tan Tock Seng Hospital.Read more here.IOC President to Visit Japan (10:47 a.m. HK)The International Olympic Committee is making arrangements for President Thomas Bach to travel to Japan in June, FNN reported, without saying where it got the information. Bach’s visit scheduled for May 17 has been canceled as a result of the extension of a state emergency covering Tokyo and other areas where the coronavirus outbreak is spreading.BioNTech’s China Venture (9:01 a.m. HK)Shanghai Fosun said on Sunday it will set up a 50:50 joint venture with BioNTech to produce mRNA Covid-19 vaccine in China. Both companies have committed up to $100 million investment through cash, production facilities and technologies. Fosun will set up a production facility capable of making 1 billion doses of the vaccine, according to the company’s filing to the Shanghai Stock Exchange.The Shanghai-based drug company struck a deal in March 2020 to license and develop the Covid shot in the Greater China region that includes Hong Kong, Macau and Taiwan, while Pfizer Inc. later agreed to co-develop and commercialize it in the rest of the world. The vaccine is now being reviewed by Chinese drug regulator. Fosun Pharmaceutical shares rose as much as 23% in Hong Kong.Vietnam PM Issues Warning (8:58 a.m. HK)Vietnam’s Prime Minister Pham Minh Chinh warned the nation could face political instability if the current coronavirus outbreak spreads nationwide, according to a post on the government’s website. Vietnam reported 78 new domestic virus patients this morning, and 411 since the latest outbreak began April 27. Hanoi and Ho Chi Minh City have shut most schools. In both the capital and Ho Chi Minh City, cinemas, gyms and spas have been shuttered. Other areas of the nation have put in place similar restrictions.China Airlines to Reduce Cargo Flights (8:15 a.m. HK)The Taiwanese carrier will temporarily reduce cargo flights to deal with pilot shortage after one-sixth of its pilots got sidelined due to quarantine measures, the Central News Agency reported. The airline will cut its cargo flights globally and half of its cargo flight services to the U.S., Apple Daily reported on Saturday, without saying where it got the information. Around 200 pilots are unable to fly as a precaution after 12 pilots were confirmed to have Covid-19 since April 20.Virus Causing Spread of Fungal Infection (8:05 a.m. HK)Coronavirus is causing the spread of a deadly fungal infection called mucormycosis across the western state of Maharashtra, the Times of India reported. Hospitals in Mumbai, which are treating dozens of such patients, are facing a shortage of anti-fungal medicines. The infection can also lead to blindness. The fungal infection usually sets in two to three weeks after treatment for covid and was mostly found in patients who already suffer from diabetes and then got affected by Covid-19.Bolsonaro Leads Mother’s Day Parade Maskless (7:02 a.m. HK)A maskless President Jair Bolsonaro led a Mother’s Day motorcycle parade on Sunday as Brazil added almost 39,000 Covid-19 cases. Deaths increased by 1,024 to 422,340 in the latest daily count, according to Health Ministry data.The ministry will begin distributing 1.12 million doses of the Pfizer/BioNTech vaccine Monday. The latest batch brings Brazil’s distribution to about 75.4 million doses and more than 46.8 million shots administered.England Set to Allow Indoor Mixing (5:56 p.m. NY)Prime Minister Boris Johnson confirmed that the next stage of lockdown easing in England will go ahead on May 17 as planned, as the Covid-19 infection rate reaches its lowest level since September.People will be allowed to stay overnight with friends or relations, and indoor hospitality will be reopened. The government said last week limited international travel will also resume then.U.S. Hospitalizations Reach Seven-Month Low (3:15 p.m. NY)The share of U.S. hospital beds occupied by Covid-19 patients fell to 5.37%, the lowest since Oct. 5, according to the U.S. Department of Health & Human Services.Michigan had the biggest percentage of beds occupied by Covid patients at 13.3% followed by Maryland at 10.8%, according to the latest HHS data, which reflect the situation on Thursday. Florida had 3,504 hospitalized Covid patients, the most of any state, followed by Texas with 3,080.L.A. to Offer Appointment-Free Vaccinations (2:30 p.m. NY)Los Angeles will offer appointment-free vaccinations at all sites starting Monday, Mayor Eric Garcetti said, in an effort to “knock down barriers to vaccine access.” The city is expecting to administer more than a quarter million shots for a second straight week.Iran Sets Vaccination Goal (12:57 p.m. NY)President Hassan Rouhani said some 13 million people in Iran, about 15% of the population, will be vaccinated against the coronavirus by July 22, as the country tries to combat the Middle East’s worst outbreak.Rouhani said he expects all people in high-risk groups to receive at least their first dose by that date, the state-run Islamic Republic News Agency reported, adding that two domestically developed shots will be ready for mass use by June.Third of U.K. Adults Fully Vaccinated (12:34 p.m.)More than a third of the United Kingdom’s adult population is now fully vaccinated against Covid-19, and two-thirds of adults have received a first shot. The U.K. has now administered more than 53 million doses of coronavirus vaccines. The success of the vaccine rollout, coupled with strict lockdown measures that are now being eased, has led to a plunge in new cases and deaths. Health authorities on Sunday reported just two daily deaths from the virus in all of the U.K.Spain Celebrates (11:03 a.m. NY)Spaniards broke out in spontaneous celebration at midnight, after a national state of emergency that included curfews from 11 p.m. to 6 a.m. in most of Spain ended at midnight. In the capital of Madrid alone, the police intervened in more than 450 incidents, the Associated Press reported, as hundreds of people, mostly youth, took to the main plazas and streets in several large cities.“Freedom doesn’t involve holding booze parties in the street because street drinking is not allowed in the city of Madrid,” Mayor José Luis Martínez-Almeida said Sunday.Restrictions were eased on restaurants, travel between regions, and on social gatherings.Fauci Says U.S. Deaths Undercounted (10 a.m. NY)There’s “no doubt” the U.S. has undercounted its number of deaths from Covid-19, which now stand at over 581,000, President Joe Biden’s top medical adviser said.But Anthony Fauci, director of the National Institute of Allergy and Infectious Diseases, said on NBC’s “Meet the Press” that a University of Washington analysis published May 6 that the true toll is probably over 900,000 is “a bit more than I would have thought.”U.S. Adds Fewer Than 35,000 Cases (8 a.m. NY)The U.S. added fewer than 35,000 cases on Saturday, sending the seven-day rolling average of new infections to the lowest since the end of September. While reporting often lags on weekends, the data collected by Johns Hopkins University and Bloomberg is the latest sign that the pandemic in America is easing.Another 625 people nationwide died of Covid-19, bringing the toll to more than 581,000 since the outbreak began. Detroit and New York City had the most deaths per capita among major metro areas in the week through Wednesday, according to a Centers for Disease Control and Prevention report dated May 6.EU Hasn’t Renewed Astra Contract (7:15 a.m. NY)The European Union hasn’t renewed its contract for vaccines from AstraZeneca Plc, Industry Commissioner Thierry Breton said Sunday on France Inter radio.The bloc started legal proceedings against the company over shortfalls last month. Breton also said the region is pushing for the establishment of vaccine factories in Africa, which is just as important as the question of intellectual property protections covering the technology.India Death Toll Stays Above 4,000 (4:20 p.m. HK)India reported more than 4,000 Covid-19 deaths for a second day, as the nation battled the world’s worst outbreak of the virus. The country on Sunday recorded 4,092 fatalities and found 403,736 new cases, with the capital New Delhi and other big cities continuing to report surging infections.The lockdown in India’s capital will be extended until May 17, New Delhi Chief Minister Arvind Kejriwal said.The restrictions had been set to end Monday after being extended several times already.For more articles like this, please visit us at bloomberg.comSubscribe now to stay ahead with the most trusted business news source.©2021 Bloomberg L.P.\n",
      "\n",
      "\n",
      "\n",
      "They recovered suspected drugs with an estimated street value of £100,000, following a proactive policing operation by officers from Mid Ulster District Support Team and Magherafelt local policing team in Maghera, Kilrea and Coleraine on Friday (18 October).\n",
      "Officers carried out a search of a property in the Crawfordsburn Drive area of Maghera and uncovered a number of suspected cannabis leaves and other drug paraphernalia.\n",
      "During follow up searches of properties in the Gorse Road area of Kilrea and the Circular Road area of Coleraine, approximately 160 cannabis plants were seized.\n",
      "PSNI\n",
      "Two men aged 36 and 37 were arrested on suspicion of cultivating cannabis, possession of a class B drug and dishonestly using electricity. They are currently in police custody.\n",
      "Sergeant Iain Stickland said: “These arrests and seizures are further evidence of our ongoing commitment to removing and disrupting the illegal supply of drugs in Northern Ireland. We know that drugs can ruin lives and line the pockets of organised criminals, and we are determined to disrupt these criminal gangs.\n",
      "“We are committed to making Northern Ireland a hostile environment for those in our community who are involved in the drugs trade and anyone involved in the drugs trade, or anyone tempted to become involved should be under no illusion - we will seek to identify them, arrest them and place them before the courts.\n",
      "“I would appeal to anyone who has any information or concerns around the supply of drugs in their community to call us on 101, or the independent charity Crimestoppers on 0800 555 111, which is 100% anonymous and gives people the power to speak up and stop crime.”\n",
      "In a video posted on social media on Friday police paid tribute to the public for their help in uncovering the drugs factory, “Maghera this evening and the big red key is swinging [a reference to a door ram].\n",
      "\n",
      "\n",
      "\n",
      "There are many pieces to our drugs, guns and corruption puzzle. Reviewing various documentaries about the drugs trade in the wider Caribbean region, can show us what the finished puzzle may look like, and therefore, why it is not being solved.\n",
      "Interviewed gang leaders admitted to bribing: customs officials, police, judges, and politicians. Bribes were paid to guarantee the uninterrupted flow of guns and drugs, and to frustrate any investigation if someone was caught.\n",
      "Gang leaders normally employed assassins to kill those who did not cooperate. They also tended to care for the poor in their communities. Sometimes, the US pressured the Governments to arrest gang leaders. If those next in line were also arrested or killed, the leadership void was sometimes filled by the assassins. When assassins became gang leaders, no one was safe.\n",
      "How close to the edge are we in Barbados? With the pieces kept conveniently jumbled, the true picture has always remained speculative. We now have 30 years of jumbled evidence to assemble.\n",
      "When the gangs were fighting for turf in Barbados during the 1987-1994 DLP administration, former Prime Minister Sandiford declared that there were no gangs in Barbados. The following BLP administration (1994-2008) acknowledged that there were gangs, but noted that there were simply killing each other.\n",
      "After some gruesome murders, legislation for illegal guns was passed. We were told that convicted persons would receive 25-year sentences for possession of an illegal gun or bullet. Soon after that announcement, a person was convicted of a gun offence, and received a comparable ‘slap-on-the-wrist’.\n",
      "In 2008, former Prime Minister Arthur revealed that he left an FBI report, on his desk, for the new Prime Minister. Former Prime Minister Stuart claimed that he never saw it, on his desk.\n",
      "In 2008, Barbados reported to the OAS that we had 150 gangs, with 4,000 members. For comparison, in 2010 the Jamaican police reported they had 268 gangs with 3,900 members. That same year, the Bajan Reporter published a shocking report of how gangs recruited our school children.\n",
      "In 2017, Small Arms Survey found that 1,675 guns were used by the Barbados military, and 2,000 by the police. The number of unlawfully held guns was estimated at 7,000.\n",
      "In 2017, the DLP reported that gang leaders were operating without fear of prosecution in Barbados. They noted that kidnappings, executions, drug trafficking, and legitimate businesses were part of their normal activities. They further noted that prominent members of Barbados society were linked to the importation of illegal guns.\n",
      "In 2017, the DLP proposed anti-gang legislation, with gang members being liable for 20 years imprisonment, and gang leaders, 25 years. In 2018, the new BLP administration decided not to pursue anti-gang legislation, noting that it will only be used as a last resort.\n",
      "In 2019, former BLP politician Atherley, revealed in Parliament, that politicians had connections to gang leaders.\n",
      "In 2020, the BLP passed an Integrity in Public Life bill, that contained glaring loopholes to protect persons who received bribes. For example, section 65.4 states: “An inquiry or investigation shall not be commenced after 2 years from the date on which the person involved ceased to be a public official.”\n",
      "The increasing number of unrestrained shootings in Barbados, suggests that whatever restraining influence ‘prominent members of Barbados society’ had, has faded. If we are on a similar trend as the wider Caribbean, then bribes have already been paid, and the uncontrollable sicarios or assassins have taken control of some gangs.\n",
      "For the past 20 years, after every shooting that the media gave prominence, we got the same tough political talk, and no meaningful action. We have now come to a very familiar junction – to jumble or not to jumble.\n",
      "The BLP recently announced that we are paying a UK law firm to go on a fishing expedition – to look for corruption in Barbados. This suggests that we have chosen to jumble.\n",
      "We can easily ask the FBI for a copy of their 2008 report – at no cost. We can also ask them for an updated version. Perhaps it is time to ask why we have not done this simple thing for the past 12 years.\n",
      "We have foolishly courted disaster for the past 30 years, and they do not tolerate break-ups.\n",
      "\n",
      "\n",
      "\n",
      "Get full access to globeandmail.com\n",
      "Just $1.99per week for the first 24weeks\n",
      "Just $1.99per week for the first 24weeks\n",
      "\n",
      "\n",
      "\n",
      "None\n",
      "\n",
      "\n",
      "\n",
      "None\n",
      "\n",
      "\n",
      "\n"
     ]
    }
   ],
   "metadata": {}
  },
  {
   "cell_type": "code",
   "execution_count": null,
   "source": [
    "\r\n",
    "file = json.load(open(f'database_dump_drugs/{x}.json'))\r\n",
    "print(file[0]['article_content'])"
   ],
   "outputs": [],
   "metadata": {}
  },
  {
   "cell_type": "markdown",
   "source": [
    "# Stanza Experimentation"
   ],
   "metadata": {}
  },
  {
   "cell_type": "code",
   "execution_count": 3,
   "source": [
    "def create_pipeline():\r\n",
    "    # download the processors\r\n",
    "    stanza.download('en', processors='tokenize,ner', logging_level='WARN')\r\n",
    "    # loac the processors into a pipeline\r\n",
    "    nlp = stanza.Pipeline('en', processors='tokenize,ner', logging_level='WARN')\r\n",
    "    \r\n",
    "    return nlp"
   ],
   "outputs": [],
   "metadata": {}
  },
  {
   "cell_type": "code",
   "execution_count": null,
   "source": [
    "file = json.load(open('database_dump_drugs/0.json'))\r\n",
    "print(file[0]['article_content'])"
   ],
   "outputs": [
    {
     "output_type": "execute_result",
     "data": {
      "text/plain": [
       "'An Ethiopian foreign national was arrested in eMzinoni for dealing in drugs at his tuck shop on Friday, 6 October.\\nThis came after the police received a tip off from members of the Community Policing Forum (CPF) that the suspect was involved in the dealing of drugs.\\nOfficers arrested the 27-year-old man.\\nHe will appear in the Bethal Magistrate’s Court.\\nPolice commended the CPF for their dedication and of fighting crime.\\nFor free daily local news in the South, visit our sister newspapers Highvelder, Standerton Advertiser\\nFor more news and interesting articles, like us on Facebook, and follow us on Twitter and Instagram'"
      ]
     },
     "metadata": {},
     "execution_count": 7
    }
   ],
   "metadata": {}
  },
  {
   "cell_type": "code",
   "execution_count": 4,
   "source": [
    "pipeline = create_pipeline()\r\n",
    "doc = pipeline(article)"
   ],
   "outputs": [],
   "metadata": {}
  },
  {
   "cell_type": "code",
   "execution_count": null,
   "source": [
    "_ = 0\r\n",
    "for sentence in doc.sentences:\r\n",
    "     if _ == 0:\r\n",
    "          print(sentence.ents)\r\n",
    "          _ += 1\r\n",
    "     else:\r\n",
    "          # do nothing\r\n",
    "          False"
   ],
   "outputs": [
    {
     "output_type": "stream",
     "name": "stdout",
     "text": [
      "[{\n",
      "  \"text\": \"Ethiopian\",\n",
      "  \"type\": \"NORP\",\n",
      "  \"start_char\": 3,\n",
      "  \"end_char\": 12\n",
      "}, {\n",
      "  \"text\": \"Friday\",\n",
      "  \"type\": \"DATE\",\n",
      "  \"start_char\": 96,\n",
      "  \"end_char\": 102\n",
      "}, {\n",
      "  \"text\": \"6 October\",\n",
      "  \"type\": \"DATE\",\n",
      "  \"start_char\": 104,\n",
      "  \"end_char\": 113\n",
      "}]\n"
     ]
    }
   ],
   "metadata": {}
  }
 ],
 "metadata": {
  "interpreter": {
   "hash": "50fbbfffa3029515f2da975249bf872cde0e912c97896f8b79f39d5b152c3369"
  },
  "kernelspec": {
   "name": "python3",
   "display_name": "Python 3.9.6 64-bit ('.venv': venv)"
  },
  "language_info": {
   "codemirror_mode": {
    "name": "ipython",
    "version": 3
   },
   "file_extension": ".py",
   "mimetype": "text/x-python",
   "name": "python",
   "nbconvert_exporter": "python",
   "pygments_lexer": "ipython3",
   "version": "3.9.6"
  }
 },
 "nbformat": 4,
 "nbformat_minor": 5
}