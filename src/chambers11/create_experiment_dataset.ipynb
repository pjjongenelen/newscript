{
 "cells": [
  {
   "cell_type": "code",
   "execution_count": 80,
   "metadata": {},
   "outputs": [],
   "source": [
    "import numpy as np\n",
    "import pandas as pd\n",
    "import re\n",
    "from tqdm import tqdm"
   ]
  },
  {
   "cell_type": "code",
   "execution_count": 56,
   "metadata": {},
   "outputs": [],
   "source": [
    "ROOT = 'C:\\\\Users\\\\timjo\\\\PycharmProjects\\\\newscript'"
   ]
  },
  {
   "cell_type": "code",
   "execution_count": 95,
   "metadata": {},
   "outputs": [
    {
     "data": {
      "text/plain": [
       "310865"
      ]
     },
     "execution_count": 95,
     "metadata": {},
     "output_type": "execute_result"
    }
   ],
   "source": [
    "articles = []\n",
    "for x in tqdm(range(1572)):\n",
    "    with open(ROOT + f'\\\\data\\\\database_dump_drugs\\\\{x}.json') as f:\n",
    "        for art in list(set(pd.read_json(f)['article_contentRaw'].tolist())):\n",
    "            if art:\n",
    "                articles.append(art)\n",
    "len(articles)"
   ]
  },
  {
   "cell_type": "code",
   "execution_count": 98,
   "metadata": {},
   "outputs": [
    {
     "data": {
      "text/plain": [
       "3542"
      ]
     },
     "execution_count": 98,
     "metadata": {},
     "output_type": "execute_result"
    }
   ],
   "source": [
    "xtc_docs = []\n",
    "for art in articles:\n",
    "    if re.search('xtc|ecstasy', art, re.IGNORECASE):\n",
    "        xtc_docs.append(art)\n",
    "len(xtc_docs)"
   ]
  },
  {
   "cell_type": "code",
   "execution_count": 106,
   "metadata": {},
   "outputs": [
    {
     "data": {
      "text/plain": [
       "805"
      ]
     },
     "execution_count": 106,
     "metadata": {},
     "output_type": "execute_result"
    }
   ],
   "source": [
    "xtc_lab_docs = []\n",
    "for art in xtc_docs:\n",
    "    if re.search('lab', art, re.IGNORECASE) and len(art) < 10000:\n",
    "        xtc_lab_docs.append(art)\n",
    "len(xtc_lab_docs)"
   ]
  },
  {
   "cell_type": "code",
   "execution_count": 111,
   "metadata": {},
   "outputs": [],
   "source": [
    "df = pd.DataFrame({'text': xtc_lab_docs})\n",
    "df.to_pickle(ROOT + \"/src/chambers11/matrices/gnm_xtclab.pkl\")"
   ]
  }
 ],
 "metadata": {
  "interpreter": {
   "hash": "529c65a099ec80885ec2eff43b42ddd85d3b5611c57bcaf738fb7ba7dbdb85b1"
  },
  "kernelspec": {
   "display_name": "Python 3",
   "language": "python",
   "name": "python3"
  },
  "language_info": {
   "codemirror_mode": {
    "name": "ipython",
    "version": 3
   },
   "file_extension": ".py",
   "mimetype": "text/x-python",
   "name": "python",
   "nbconvert_exporter": "python",
   "pygments_lexer": "ipython3",
   "version": "3.7.10"
  }
 },
 "nbformat": 4,
 "nbformat_minor": 1
}
