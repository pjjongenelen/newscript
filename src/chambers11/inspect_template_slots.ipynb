{
 "cells": [
  {
   "cell_type": "code",
   "execution_count": 7,
   "metadata": {},
   "outputs": [],
   "source": [
    "import pandas as pd"
   ]
  },
  {
   "cell_type": "code",
   "execution_count": 8,
   "metadata": {},
   "outputs": [],
   "source": [
    "ROOT = 'C:\\\\Users\\\\timjo\\\\PycharmProjects\\\\newscript'\n",
    "SOURCE = 'muc'"
   ]
  },
  {
   "cell_type": "code",
   "execution_count": 10,
   "metadata": {},
   "outputs": [],
   "source": [
    "df = pd.read_pickle(f\"{ROOT}\\\\src\\\\chambers11\\\\matrices\\\\{SOURCE}_slot_mapping.pkl\")"
   ]
  },
  {
   "cell_type": "code",
   "execution_count": 12,
   "metadata": {},
   "outputs": [
    {
     "data": {
      "text/plain": [
       "3       announce:s\n",
       "4         appear:s\n",
       "6             be:s\n",
       "7          begin:s\n",
       "8           call:s\n",
       "11       conduct:s\n",
       "14      disclose:s\n",
       "15    distribute:s\n",
       "17       express:s\n",
       "19          find:s\n",
       "20        hinder:s\n",
       "22        kidnap:s\n",
       "23          kill:s\n",
       "24         learn:s\n",
       "25          move:s\n",
       "27           own:s\n",
       "28        report:s\n",
       "29          rise:s\n",
       "32          take:s\n",
       "33         throw:s\n",
       "40        allege:o\n",
       "41      announce:o\n",
       "45         claim:o\n",
       "47      confront:o\n",
       "51      disclose:o\n",
       "52    distribute:o\n",
       "56       explain:o\n",
       "57       express:o\n",
       "58     extradite:o\n",
       "61          move:o\n",
       "62           own:o\n",
       "64          rise:o\n",
       "67          take:o\n",
       "Name: event, dtype: object"
      ]
     },
     "execution_count": 12,
     "metadata": {},
     "output_type": "execute_result"
    }
   ],
   "source": [
    "df[df.slot == 0].event"
   ]
  },
  {
   "cell_type": "code",
   "execution_count": 13,
   "metadata": {},
   "outputs": [
    {
     "data": {
      "text/plain": [
       "0        address:s\n",
       "2          adopt:s\n",
       "9        capture:s\n",
       "12      continue:s\n",
       "16    experience:s\n",
       "18          face:s\n",
       "26        murder:s\n",
       "34           use:s\n",
       "37       address:o\n",
       "39         adopt:o\n",
       "43         bring:o\n",
       "44       capture:o\n",
       "48      continue:o\n",
       "50      denounce:o\n",
       "53     encourage:o\n",
       "55    experience:o\n",
       "59          face:o\n",
       "63      proclaim:o\n",
       "68           use:o\n",
       "Name: event, dtype: object"
      ]
     },
     "execution_count": 13,
     "metadata": {},
     "output_type": "execute_result"
    }
   ],
   "source": [
    "df[df.slot == 1].event"
   ]
  },
  {
   "cell_type": "code",
   "execution_count": 14,
   "metadata": {},
   "outputs": [
    {
     "data": {
      "text/plain": [
       "35    warn:s\n",
       "69    warn:o\n",
       "Name: event, dtype: object"
      ]
     },
     "execution_count": 14,
     "metadata": {},
     "output_type": "execute_result"
    }
   ],
   "source": [
    "df[df.slot == 2].event"
   ]
  },
  {
   "cell_type": "code",
   "execution_count": 15,
   "metadata": {},
   "outputs": [
    {
     "data": {
      "text/plain": [
       "31    shoot:s\n",
       "66    shoot:o\n",
       "Name: event, dtype: object"
      ]
     },
     "execution_count": 15,
     "metadata": {},
     "output_type": "execute_result"
    }
   ],
   "source": [
    "df[df.slot == 3].event"
   ]
  },
  {
   "cell_type": "code",
   "execution_count": 16,
   "metadata": {},
   "outputs": [
    {
     "data": {
      "text/plain": [
       "1       admit:s\n",
       "5     approve:s\n",
       "10    condemn:s\n",
       "13       deal:s\n",
       "21    justify:s\n",
       "30        say:s\n",
       "36       work:s\n",
       "38      admit:o\n",
       "42    approve:o\n",
       "46    condemn:o\n",
       "49       deal:o\n",
       "54    enforce:o\n",
       "60    justify:o\n",
       "65        say:o\n",
       "Name: event, dtype: object"
      ]
     },
     "execution_count": 16,
     "metadata": {},
     "output_type": "execute_result"
    }
   ],
   "source": [
    "df[df.slot == 4].event"
   ]
  }
 ],
 "metadata": {
  "interpreter": {
   "hash": "529c65a099ec80885ec2eff43b42ddd85d3b5611c57bcaf738fb7ba7dbdb85b1"
  },
  "kernelspec": {
   "display_name": "Python 3.7.10 64-bit ('thesis': conda)",
   "language": "python",
   "name": "python3"
  },
  "language_info": {
   "codemirror_mode": {
    "name": "ipython",
    "version": 3
   },
   "file_extension": ".py",
   "mimetype": "text/x-python",
   "name": "python",
   "nbconvert_exporter": "python",
   "pygments_lexer": "ipython3",
   "version": "3.7.10"
  },
  "orig_nbformat": 4
 },
 "nbformat": 4,
 "nbformat_minor": 2
}
