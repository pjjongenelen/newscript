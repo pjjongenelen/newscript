{
 "cells": [
  {
   "cell_type": "code",
   "execution_count": 42,
   "metadata": {},
   "outputs": [],
   "source": [
    "import matplotlib.pyplot as plt\n",
    "import pandas as pd\n",
    "\n",
    "ROOT = 'C:\\\\Users\\\\timjo\\\\PycharmProjects\\\\newscript'"
   ]
  },
  {
   "cell_type": "markdown",
   "metadata": {},
   "source": [
    "# GNM"
   ]
  },
  {
   "cell_type": "code",
   "execution_count": 43,
   "metadata": {},
   "outputs": [
    {
     "data": {
      "text/html": [
       "<div>\n",
       "<style scoped>\n",
       "    .dataframe tbody tr th:only-of-type {\n",
       "        vertical-align: middle;\n",
       "    }\n",
       "\n",
       "    .dataframe tbody tr th {\n",
       "        vertical-align: top;\n",
       "    }\n",
       "\n",
       "    .dataframe thead th {\n",
       "        text-align: right;\n",
       "    }\n",
       "</style>\n",
       "<table border=\"1\" class=\"dataframe\">\n",
       "  <thead>\n",
       "    <tr style=\"text-align: right;\">\n",
       "      <th></th>\n",
       "      <th>date</th>\n",
       "      <th>text</th>\n",
       "      <th>origin</th>\n",
       "      <th>author</th>\n",
       "      <th>location</th>\n",
       "    </tr>\n",
       "  </thead>\n",
       "  <tbody>\n",
       "    <tr>\n",
       "      <th>0</th>\n",
       "      <td>2020-09-12</td>\n",
       "      <td>Bernard 'Gan' Joyce is believed to be a key me...</td>\n",
       "      <td>www.herald.ie</td>\n",
       "      <td>NaN</td>\n",
       "      <td>EI</td>\n",
       "    </tr>\n",
       "    <tr>\n",
       "      <th>1</th>\n",
       "      <td>2018-03-31</td>\n",
       "      <td>For years, the annual BFD concert has been hel...</td>\n",
       "      <td>www.eastbaytimes.com</td>\n",
       "      <td>NaN</td>\n",
       "      <td>US</td>\n",
       "    </tr>\n",
       "    <tr>\n",
       "      <th>2</th>\n",
       "      <td>2019-01-05</td>\n",
       "      <td>Is legal pot a possibility in New York? It's o...</td>\n",
       "      <td>www.wcax.com</td>\n",
       "      <td>NaN</td>\n",
       "      <td>US</td>\n",
       "    </tr>\n",
       "    <tr>\n",
       "      <th>3</th>\n",
       "      <td>2017-03-18</td>\n",
       "      <td>The proliferation of illegal drugs is one of t...</td>\n",
       "      <td>www.manilatimes.net</td>\n",
       "      <td>Philippines News Agency</td>\n",
       "      <td>RP</td>\n",
       "    </tr>\n",
       "    <tr>\n",
       "      <th>4</th>\n",
       "      <td>2021-05-06</td>\n",
       "      <td>‘The fear of losing health insurance is even m...</td>\n",
       "      <td>www.medindia.net</td>\n",
       "      <td>NaN</td>\n",
       "      <td>US</td>\n",
       "    </tr>\n",
       "  </tbody>\n",
       "</table>\n",
       "</div>"
      ],
      "text/plain": [
       "         date                                               text  \\\n",
       "0  2020-09-12  Bernard 'Gan' Joyce is believed to be a key me...   \n",
       "1  2018-03-31  For years, the annual BFD concert has been hel...   \n",
       "2  2019-01-05  Is legal pot a possibility in New York? It's o...   \n",
       "3  2017-03-18  The proliferation of illegal drugs is one of t...   \n",
       "4  2021-05-06  ‘The fear of losing health insurance is even m...   \n",
       "\n",
       "                 origin                   author location  \n",
       "0         www.herald.ie                      NaN       EI  \n",
       "1  www.eastbaytimes.com                      NaN       US  \n",
       "2          www.wcax.com                      NaN       US  \n",
       "3   www.manilatimes.net  Philippines News Agency       RP  \n",
       "4      www.medindia.net                      NaN       US  "
      ]
     },
     "execution_count": 43,
     "metadata": {},
     "output_type": "execute_result"
    }
   ],
   "source": [
    "gnm = pd.read_csv(ROOT + \"\\\\processed_data\\\\gnm.csv\", index_col=0)\n",
    "gnm.head()"
   ]
  },
  {
   "cell_type": "markdown",
   "metadata": {},
   "source": [
    "### Date"
   ]
  },
  {
   "cell_type": "code",
   "execution_count": 44,
   "metadata": {},
   "outputs": [
    {
     "name": "stdout",
     "output_type": "stream",
     "text": [
      "Number of unique dates: 582\n",
      "Earliest date: 2017-02-02\n",
      "Most recent date: 2021-06-05\n",
      "Type of column: object\n"
     ]
    }
   ],
   "source": [
    "print(f\"Number of unique dates: {len(set(gnm['date']))}\")\n",
    "missing_dates = None\n",
    "missing_dates_perc = None\n",
    "print(f\"Earliest date: {min(gnm['date'])}\")\n",
    "print(f\"Most recent date: {max(gnm['date'])}\")\n",
    "print(f\"Type of column: {gnm.date.dtypes}\")"
   ]
  },
  {
   "cell_type": "markdown",
   "metadata": {},
   "source": [
    "### Text"
   ]
  },
  {
   "cell_type": "code",
   "execution_count": 45,
   "metadata": {},
   "outputs": [
    {
     "name": "stdout",
     "output_type": "stream",
     "text": [
      "Number of unique articles: 1700\n",
      "Number of missing values: 0%\n",
      "Data type: <class 'float'>\n"
     ]
    }
   ],
   "source": [
    "print(f\"Number of unique articles: {len(set(gnm.text))}\")\n",
    "perc_miss = round(100 * gnm.text.isna().sum() / gnm.shape[0])\n",
    "print(f\"Number of missing values: {perc_miss}%\")\n",
    "print(f\"Data type: {type(gnm.author.iloc[0])}\")"
   ]
  },
  {
   "cell_type": "markdown",
   "metadata": {},
   "source": [
    "### Author"
   ]
  },
  {
   "cell_type": "code",
   "execution_count": 46,
   "metadata": {},
   "outputs": [
    {
     "name": "stdout",
     "output_type": "stream",
     "text": [
      "Number of unique authors: 376\n",
      "Percentage of missing values: 76%\n",
      "Data type: <class 'float'>\n"
     ]
    }
   ],
   "source": [
    "print(f\"Number of unique authors: {len(gnm.groupby(['author']).size())}\")\n",
    "perc_miss = round(100 * gnm.author.isna().sum() / gnm.shape[0])\n",
    "print(f\"Percentage of missing values: {perc_miss}%\")\n",
    "print(f\"Data type: {type(gnm['author'].iloc[0])}\")"
   ]
  },
  {
   "cell_type": "markdown",
   "metadata": {},
   "source": [
    "### Domain"
   ]
  },
  {
   "cell_type": "code",
   "execution_count": 47,
   "metadata": {},
   "outputs": [
    {
     "name": "stdout",
     "output_type": "stream",
     "text": [
      "Number of unique domains: 999\n",
      "Percentage of missing values: 0%\n",
      "Data type: <class 'str'>\n"
     ]
    }
   ],
   "source": [
    "print(f\"Number of unique domains: {len(gnm.groupby(['origin']).size())}\")\n",
    "perc_miss = round(100 * gnm.origin.isna().sum() / gnm.shape[0])\n",
    "print(f\"Percentage of missing values: {perc_miss}%\")\n",
    "print(f\"Data type: {type(gnm['origin'].iloc[0])}\")"
   ]
  },
  {
   "cell_type": "markdown",
   "metadata": {},
   "source": [
    "### Country"
   ]
  },
  {
   "cell_type": "code",
   "execution_count": 48,
   "metadata": {},
   "outputs": [
    {
     "name": "stdout",
     "output_type": "stream",
     "text": [
      "Number of unique countries: 126\n",
      "Percentage of missing values: 8%\n",
      "Data type: <class 'str'>\n"
     ]
    }
   ],
   "source": [
    "print(f\"Number of unique countries: {len(gnm.groupby(['location']).size())}\")\n",
    "perc_miss = round(100 * gnm.location.isna().sum() / gnm.shape[0])\n",
    "print(f\"Percentage of missing values: {perc_miss}%\")\n",
    "print(f\"Data type: {type(gnm['location'].iloc[0])}\")"
   ]
  },
  {
   "cell_type": "markdown",
   "metadata": {},
   "source": [
    "### Article length"
   ]
  },
  {
   "cell_type": "code",
   "execution_count": 49,
   "metadata": {},
   "outputs": [
    {
     "data": {
      "text/plain": [
       "[]"
      ]
     },
     "execution_count": 49,
     "metadata": {},
     "output_type": "execute_result"
    },
    {
     "data": {
      "image/png": "[encoded data removed]",
      "text/plain": [
       "<Figure size 1080x432 with 1 Axes>"
      ]
     },
     "metadata": {
      "needs_background": "light"
     },
     "output_type": "display_data"
    }
   ],
   "source": [
    "gnm['text_length'] = gnm.text.str.len()\n",
    "gnm_len = gnm.text_length.tolist()\n",
    "fig = plt.figure(figsize=[15,6])\n",
    "plt.hist(gnm_len, bins=[0,1000,2000,3000,4000,5000,6000,7000,8000,9000,10000,11000,12000,14000,15000])\n",
    "plt.xlabel('Article length')\n",
    "plt.ylabel('Frequency')\n",
    "plt.plot()"
   ]
  },
  {
   "cell_type": "markdown",
   "metadata": {},
   "source": [
    "# MUC"
   ]
  },
  {
   "cell_type": "code",
   "execution_count": 50,
   "metadata": {},
   "outputs": [
    {
     "data": {
      "text/html": [
       "<div>\n",
       "<style scoped>\n",
       "    .dataframe tbody tr th:only-of-type {\n",
       "        vertical-align: middle;\n",
       "    }\n",
       "\n",
       "    .dataframe tbody tr th {\n",
       "        vertical-align: top;\n",
       "    }\n",
       "\n",
       "    .dataframe thead th {\n",
       "        text-align: right;\n",
       "    }\n",
       "</style>\n",
       "<table border=\"1\" class=\"dataframe\">\n",
       "  <thead>\n",
       "    <tr style=\"text-align: right;\">\n",
       "      <th></th>\n",
       "      <th>id</th>\n",
       "      <th>location</th>\n",
       "      <th>date</th>\n",
       "      <th>text</th>\n",
       "    </tr>\n",
       "  </thead>\n",
       "  <tbody>\n",
       "    <tr>\n",
       "      <th>0</th>\n",
       "      <td>DEV-MUC3-0001</td>\n",
       "      <td>SAN SALVADOR</td>\n",
       "      <td>1990-01-03</td>\n",
       "      <td>The Arce Battalion command has reported that a...</td>\n",
       "    </tr>\n",
       "    <tr>\n",
       "      <th>1</th>\n",
       "      <td>DEV-MUC3-0002</td>\n",
       "      <td>SAN SALVADOR</td>\n",
       "      <td>1990-01-04</td>\n",
       "      <td>According to statements made by a Salvadoran o...</td>\n",
       "    </tr>\n",
       "    <tr>\n",
       "      <th>2</th>\n",
       "      <td>DEV-MUC3-0003</td>\n",
       "      <td>SANTIAGO</td>\n",
       "      <td>1990-01-05</td>\n",
       "      <td>The government junta yesterday approved a draf...</td>\n",
       "    </tr>\n",
       "    <tr>\n",
       "      <th>3</th>\n",
       "      <td>DEV-MUC3-0004</td>\n",
       "      <td>CLANDESTINE</td>\n",
       "      <td>1990-01-08</td>\n",
       "      <td>Goodbye general Rafael Bustillo, false hope fo...</td>\n",
       "    </tr>\n",
       "    <tr>\n",
       "      <th>4</th>\n",
       "      <td>DEV-MUC3-0005</td>\n",
       "      <td>CLANDESTINE</td>\n",
       "      <td>1990-01-08</td>\n",
       "      <td>A war bulletin indicates that on 6 January at ...</td>\n",
       "    </tr>\n",
       "  </tbody>\n",
       "</table>\n",
       "</div>"
      ],
      "text/plain": [
       "              id      location        date  \\\n",
       "0  DEV-MUC3-0001  SAN SALVADOR  1990-01-03   \n",
       "1  DEV-MUC3-0002  SAN SALVADOR  1990-01-04   \n",
       "2  DEV-MUC3-0003      SANTIAGO  1990-01-05   \n",
       "3  DEV-MUC3-0004   CLANDESTINE  1990-01-08   \n",
       "4  DEV-MUC3-0005   CLANDESTINE  1990-01-08   \n",
       "\n",
       "                                                text  \n",
       "0  The Arce Battalion command has reported that a...  \n",
       "1  According to statements made by a Salvadoran o...  \n",
       "2  The government junta yesterday approved a draf...  \n",
       "3  Goodbye general Rafael Bustillo, false hope fo...  \n",
       "4  A war bulletin indicates that on 6 January at ...  "
      ]
     },
     "execution_count": 50,
     "metadata": {},
     "output_type": "execute_result"
    }
   ],
   "source": [
    "muc = pd.read_csv(ROOT + \"\\\\processed_data\\\\muc.csv\", index_col=0)\n",
    "muc.head()"
   ]
  },
  {
   "cell_type": "markdown",
   "metadata": {},
   "source": [
    "### Location"
   ]
  },
  {
   "cell_type": "code",
   "execution_count": 51,
   "metadata": {},
   "outputs": [
    {
     "name": "stdout",
     "output_type": "stream",
     "text": [
      "Number of unique locations: 87\n",
      "Percentage of missing values: 0%\n",
      "Data type: <class 'str'>\n"
     ]
    }
   ],
   "source": [
    "print(f\"Number of unique locations: {len(muc.groupby(['location']).size())}\")\n",
    "perc_miss = round(100 * muc.location.isna().sum() / muc.shape[0])\n",
    "print(f\"Percentage of missing values: {perc_miss}%\")\n",
    "print(f\"Data type: {type(muc['location'].iloc[0])}\")"
   ]
  },
  {
   "cell_type": "markdown",
   "metadata": {},
   "source": [
    "### Date"
   ]
  },
  {
   "cell_type": "code",
   "execution_count": 52,
   "metadata": {},
   "outputs": [
    {
     "name": "stdout",
     "output_type": "stream",
     "text": [
      "Number of unique dates: 466\n",
      "Percentage of missing values: 6%\n",
      "Data type: <class 'str'>\n"
     ]
    }
   ],
   "source": [
    "print(f\"Number of unique dates: {len(muc.groupby(['date']).size())}\")\n",
    "perc_miss = round(100 * muc.date.isna().sum() / muc.shape[0])\n",
    "print(f\"Percentage of missing values: {perc_miss}%\")\n",
    "print(f\"Data type: {type(muc['date'].iloc[0])}\")"
   ]
  },
  {
   "cell_type": "markdown",
   "metadata": {},
   "source": [
    "### Text"
   ]
  },
  {
   "cell_type": "code",
   "execution_count": 53,
   "metadata": {},
   "outputs": [
    {
     "name": "stdout",
     "output_type": "stream",
     "text": [
      "Number of unique texts: 1698\n",
      "Percentage of missing values: 0%\n",
      "Data type: <class 'str'>\n"
     ]
    }
   ],
   "source": [
    "print(f\"Number of unique texts: {len(muc.groupby(['text']).size())}\")\n",
    "perc_miss = round(100 * muc.text.isna().sum() / muc.shape[0])\n",
    "print(f\"Percentage of missing values: {perc_miss}%\")\n",
    "print(f\"Data type: {type(muc['text'].iloc[0])}\")"
   ]
  },
  {
   "cell_type": "markdown",
   "metadata": {},
   "source": [
    "### Article length"
   ]
  },
  {
   "cell_type": "code",
   "execution_count": 54,
   "metadata": {},
   "outputs": [
    {
     "data": {
      "text/plain": [
       "[]"
      ]
     },
     "execution_count": 54,
     "metadata": {},
     "output_type": "execute_result"
    },
    {
     "data": {
      "image/png": "[encoded data removed]",
      "text/plain": [
       "<Figure size 1080x432 with 1 Axes>"
      ]
     },
     "metadata": {
      "needs_background": "light"
     },
     "output_type": "display_data"
    }
   ],
   "source": [
    "muc['text_length'] = muc.text.str.len()\n",
    "muc_len = muc.text_length.tolist()\n",
    "fig = plt.figure(figsize=[15,6])\n",
    "plt.hist(muc_len, bins=[0,1000,2000,3000,4000,5000,6000,7000,8000,9000,10000,11000,12000,14000,15000])\n",
    "plt.xlabel('Article length')\n",
    "plt.ylabel('Frequency')\n",
    "plt.plot()"
   ]
  },
  {
   "cell_type": "markdown",
   "metadata": {},
   "source": [
    "# 1-on-1 comparison MUC-GNM\n",
    "Now let's look at some differences between the datasets, what do the distributions of the variables look like?"
   ]
  },
  {
   "cell_type": "code",
   "execution_count": 55,
   "metadata": {},
   "outputs": [
    {
     "data": {
      "text/plain": [
       "(array([ 0,  1,  2,  3,  4,  5,  6,  7,  8,  9, 10, 11, 12, 13, 14, 15, 16,\n",
       "        17, 18, 19, 20, 21, 22, 23, 24, 25, 26, 27, 28, 29, 30, 31, 32, 33,\n",
       "        34, 35, 36, 37, 38, 39, 40, 41, 42, 43, 44, 45, 46]),\n",
       " [Text(0, 0, '2017-02'),\n",
       "  Text(1, 0, '2017-03'),\n",
       "  Text(2, 0, '2017-04'),\n",
       "  Text(3, 0, '2017-05'),\n",
       "  Text(4, 0, '2017-06'),\n",
       "  Text(5, 0, '2017-07'),\n",
       "  Text(6, 0, '2017-08'),\n",
       "  Text(7, 0, '2017-09'),\n",
       "  Text(8, 0, '2017-10'),\n",
       "  Text(9, 0, '2017-11'),\n",
       "  Text(10, 0, '2017-12'),\n",
       "  Text(11, 0, '2018-01'),\n",
       "  Text(12, 0, '2018-02'),\n",
       "  Text(13, 0, '2018-03'),\n",
       "  Text(14, 0, '2018-04'),\n",
       "  Text(15, 0, '2018-05'),\n",
       "  Text(16, 0, '2018-08'),\n",
       "  Text(17, 0, '2018-09'),\n",
       "  Text(18, 0, '2018-10'),\n",
       "  Text(19, 0, '2018-11'),\n",
       "  Text(20, 0, '2018-12'),\n",
       "  Text(21, 0, '2019-01'),\n",
       "  Text(22, 0, '2019-02'),\n",
       "  Text(23, 0, '2019-03'),\n",
       "  Text(24, 0, '2019-04'),\n",
       "  Text(25, 0, '2019-05'),\n",
       "  Text(26, 0, '2019-06'),\n",
       "  Text(27, 0, '2019-07'),\n",
       "  Text(28, 0, '2019-08'),\n",
       "  Text(29, 0, '2019-09'),\n",
       "  Text(30, 0, '2019-10'),\n",
       "  Text(31, 0, '2019-11'),\n",
       "  Text(32, 0, '2019-12'),\n",
       "  Text(33, 0, '2020-01'),\n",
       "  Text(34, 0, '2020-03'),\n",
       "  Text(35, 0, '2020-04'),\n",
       "  Text(36, 0, '2020-05'),\n",
       "  Text(37, 0, '2020-06'),\n",
       "  Text(38, 0, '2020-07'),\n",
       "  Text(39, 0, '2020-08'),\n",
       "  Text(40, 0, '2020-09'),\n",
       "  Text(41, 0, '2020-10'),\n",
       "  Text(42, 0, '2021-01'),\n",
       "  Text(43, 0, '2021-03'),\n",
       "  Text(44, 0, '2021-04'),\n",
       "  Text(45, 0, '2021-05'),\n",
       "  Text(46, 0, '2021-06')])"
      ]
     },
     "execution_count": 55,
     "metadata": {},
     "output_type": "execute_result"
    },
    {
     "data": {
      "image/png": "[encoded data removed]",
      "text/plain": [
       "<Figure size 1080x432 with 1 Axes>"
      ]
     },
     "metadata": {
      "needs_background": "light"
     },
     "output_type": "display_data"
    }
   ],
   "source": [
    "gnm['date'] = pd.to_datetime(gnm['date'])\n",
    "plt.figure(figsize=[15,6])\n",
    "gnm['date'].dt.to_period('M').value_counts().sort_index().plot(kind='bar')\n",
    "plt.ylabel('Number of articles')\n",
    "plt.xlabel('Publication date')\n",
    "plt.xticks(rotation=45)"
   ]
  },
  {
   "cell_type": "code",
   "execution_count": 56,
   "metadata": {},
   "outputs": [
    {
     "data": {
      "text/plain": [
       "(array([ 0,  1,  2,  3,  4,  5,  6,  7,  8,  9, 10, 11, 12, 13, 14, 15, 16,\n",
       "        17, 18, 19, 20, 21, 22, 23, 24, 25, 26]),\n",
       " [Text(0, 0, '1911-03'),\n",
       "  Text(1, 0, '1988-04'),\n",
       "  Text(2, 0, '1988-05'),\n",
       "  Text(3, 0, '1988-07'),\n",
       "  Text(4, 0, '1988-08'),\n",
       "  Text(5, 0, '1988-09'),\n",
       "  Text(6, 0, '1988-10'),\n",
       "  Text(7, 0, '1988-11'),\n",
       "  Text(8, 0, '1988-12'),\n",
       "  Text(9, 0, '1989-01'),\n",
       "  Text(10, 0, '1989-02'),\n",
       "  Text(11, 0, '1989-03'),\n",
       "  Text(12, 0, '1989-04'),\n",
       "  Text(13, 0, '1989-05'),\n",
       "  Text(14, 0, '1989-06'),\n",
       "  Text(15, 0, '1989-07'),\n",
       "  Text(16, 0, '1989-08'),\n",
       "  Text(17, 0, '1989-09'),\n",
       "  Text(18, 0, '1989-10'),\n",
       "  Text(19, 0, '1989-11'),\n",
       "  Text(20, 0, '1989-12'),\n",
       "  Text(21, 0, '1990-01'),\n",
       "  Text(22, 0, '1990-02'),\n",
       "  Text(23, 0, '1990-03'),\n",
       "  Text(24, 0, '1990-04'),\n",
       "  Text(25, 0, '1990-05'),\n",
       "  Text(26, 0, '1990-06')])"
      ]
     },
     "execution_count": 56,
     "metadata": {},
     "output_type": "execute_result"
    },
    {
     "data": {
      "image/png": "[encoded data removed]",
      "text/plain": [
       "<Figure size 1080x432 with 1 Axes>"
      ]
     },
     "metadata": {
      "needs_background": "light"
     },
     "output_type": "display_data"
    }
   ],
   "source": [
    "muc['date'] = pd.to_datetime(muc['date'])\n",
    "plt.figure(figsize=[15,6])\n",
    "muc['date'].dt.to_period('M').value_counts().sort_index().plot(kind='bar')\n",
    "plt.ylabel('Number of articles')\n",
    "plt.xlabel('Publication date')\n",
    "plt.xticks(rotation=45)"
   ]
  },
  {
   "cell_type": "code",
   "execution_count": 57,
   "metadata": {},
   "outputs": [
    {
     "data": {
      "text/html": [
       "<div>\n",
       "<style scoped>\n",
       "    .dataframe tbody tr th:only-of-type {\n",
       "        vertical-align: middle;\n",
       "    }\n",
       "\n",
       "    .dataframe tbody tr th {\n",
       "        vertical-align: top;\n",
       "    }\n",
       "\n",
       "    .dataframe thead th {\n",
       "        text-align: right;\n",
       "    }\n",
       "</style>\n",
       "<table border=\"1\" class=\"dataframe\">\n",
       "  <thead>\n",
       "    <tr style=\"text-align: right;\">\n",
       "      <th></th>\n",
       "      <th>id</th>\n",
       "      <th>location</th>\n",
       "      <th>date</th>\n",
       "      <th>text</th>\n",
       "      <th>text_length</th>\n",
       "    </tr>\n",
       "  </thead>\n",
       "  <tbody>\n",
       "    <tr>\n",
       "      <th>1165</th>\n",
       "      <td>DEV-MUC3-1166</td>\n",
       "      <td>MOSCOW</td>\n",
       "      <td>1911-03-11</td>\n",
       "      <td>After staying in power for 16 years, General A...</td>\n",
       "      <td>2210</td>\n",
       "    </tr>\n",
       "  </tbody>\n",
       "</table>\n",
       "</div>"
      ],
      "text/plain": [
       "                 id location       date  \\\n",
       "1165  DEV-MUC3-1166  MOSCOW  1911-03-11   \n",
       "\n",
       "                                                   text  text_length  \n",
       "1165  After staying in power for 16 years, General A...         2210  "
      ]
     },
     "execution_count": 57,
     "metadata": {},
     "output_type": "execute_result"
    }
   ],
   "source": [
    "muc[muc['date'].dt.year == 1911]"
   ]
  }
 ],
 "metadata": {
  "interpreter": {
   "hash": "529c65a099ec80885ec2eff43b42ddd85d3b5611c57bcaf738fb7ba7dbdb85b1"
  },
  "kernelspec": {
   "display_name": "Python 3",
   "language": "python",
   "name": "python3"
  },
  "language_info": {
   "codemirror_mode": {
    "name": "ipython",
    "version": 3
   },
   "file_extension": ".py",
   "mimetype": "text/x-python",
   "name": "python",
   "nbconvert_exporter": "python",
   "pygments_lexer": "ipython3",
   "version": "3.7.10"
  }
 },
 "nbformat": 4,
 "nbformat_minor": 1
}
