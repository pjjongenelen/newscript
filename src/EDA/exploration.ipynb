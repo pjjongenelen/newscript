{
 "cells": [
  {
   "cell_type": "code",
   "execution_count": 47,
   "metadata": {},
   "outputs": [],
   "source": [
    "import numpy as np\n",
    "import pandas as pd\n",
    "\n",
    "ROOT = 'C:\\\\Users\\\\timjo\\\\PycharmProjects\\\\newscript'"
   ]
  },
  {
   "cell_type": "markdown",
   "metadata": {},
   "source": [
    "# GNM"
   ]
  },
  {
   "cell_type": "code",
   "execution_count": 29,
   "metadata": {},
   "outputs": [
    {
     "data": {
      "text/html": [
       "<div>\n",
       "<style scoped>\n",
       "    .dataframe tbody tr th:only-of-type {\n",
       "        vertical-align: middle;\n",
       "    }\n",
       "\n",
       "    .dataframe tbody tr th {\n",
       "        vertical-align: top;\n",
       "    }\n",
       "\n",
       "    .dataframe thead th {\n",
       "        text-align: right;\n",
       "    }\n",
       "</style>\n",
       "<table border=\"1\" class=\"dataframe\">\n",
       "  <thead>\n",
       "    <tr style=\"text-align: right;\">\n",
       "      <th></th>\n",
       "      <th>date</th>\n",
       "      <th>text</th>\n",
       "      <th>origin</th>\n",
       "      <th>author</th>\n",
       "      <th>country</th>\n",
       "    </tr>\n",
       "  </thead>\n",
       "  <tbody>\n",
       "    <tr>\n",
       "      <th>0</th>\n",
       "      <td>2017-10-10</td>\n",
       "      <td>An Ethiopian foreign national was arrested in ...</td>\n",
       "      <td>ridgetimes.co.za</td>\n",
       "      <td>Sifiso Mathebula</td>\n",
       "      <td>ET</td>\n",
       "    </tr>\n",
       "    <tr>\n",
       "      <th>1</th>\n",
       "      <td>2018-11-28</td>\n",
       "      <td>Daniel Placek seemed to have everything going ...</td>\n",
       "      <td>www.thebatavian.com</td>\n",
       "      <td>NaN</td>\n",
       "      <td>US</td>\n",
       "    </tr>\n",
       "    <tr>\n",
       "      <th>28</th>\n",
       "      <td>2020-04-02</td>\n",
       "      <td>The 2019 Ministerial Declaration of the Commis...</td>\n",
       "      <td>www.unodc.org</td>\n",
       "      <td>NaN</td>\n",
       "      <td>AU</td>\n",
       "    </tr>\n",
       "    <tr>\n",
       "      <th>29</th>\n",
       "      <td>2017-07-20</td>\n",
       "      <td>Bill’s world was a dangerous one. He believed ...</td>\n",
       "      <td>blogs.scientificamerican.com</td>\n",
       "      <td>Kunmi Sobowale About The Author S M.D. Is A Ch...</td>\n",
       "      <td>NaN</td>\n",
       "    </tr>\n",
       "    <tr>\n",
       "      <th>31</th>\n",
       "      <td>2019-11-05</td>\n",
       "      <td>By Martin Petty\\nMANILA, Nov 5 (Reuters) - Phi...</td>\n",
       "      <td>news.trust.org</td>\n",
       "      <td>Thomson Reuters Foundation</td>\n",
       "      <td>RP</td>\n",
       "    </tr>\n",
       "  </tbody>\n",
       "</table>\n",
       "</div>"
      ],
      "text/plain": [
       "         date                                               text  \\\n",
       "0  2017-10-10  An Ethiopian foreign national was arrested in ...   \n",
       "1  2018-11-28  Daniel Placek seemed to have everything going ...   \n",
       "28 2020-04-02  The 2019 Ministerial Declaration of the Commis...   \n",
       "29 2017-07-20  Bill’s world was a dangerous one. He believed ...   \n",
       "31 2019-11-05  By Martin Petty\\nMANILA, Nov 5 (Reuters) - Phi...   \n",
       "\n",
       "                          origin  \\\n",
       "0               ridgetimes.co.za   \n",
       "1            www.thebatavian.com   \n",
       "28                 www.unodc.org   \n",
       "29  blogs.scientificamerican.com   \n",
       "31                news.trust.org   \n",
       "\n",
       "                                               author country  \n",
       "0                                    Sifiso Mathebula      ET  \n",
       "1                                                 NaN      US  \n",
       "28                                                NaN      AU  \n",
       "29  Kunmi Sobowale About The Author S M.D. Is A Ch...     NaN  \n",
       "31                         Thomson Reuters Foundation      RP  "
      ]
     },
     "execution_count": 29,
     "metadata": {},
     "output_type": "execute_result"
    }
   ],
   "source": [
    "gnm = pd.read_pickle(ROOT + \"\\\\processed_data\\\\gnm.pkl\")\n",
    "gnm.head()"
   ]
  },
  {
   "cell_type": "markdown",
   "metadata": {},
   "source": [
    "### Date"
   ]
  },
  {
   "cell_type": "code",
   "execution_count": 30,
   "metadata": {},
   "outputs": [
    {
     "name": "stdout",
     "output_type": "stream",
     "text": [
      "Number of unique dates: 1140\n",
      "Earliest date: 2017-01-01 00:00:00\n",
      "Most recent date: 2021-06-07 00:00:00\n",
      "Type of column: datetime64[ns]\n"
     ]
    }
   ],
   "source": [
    "print(f\"Number of unique dates: {len(set(gnm['date']))}\")\n",
    "missing_dates = None\n",
    "missing_dates_perc = None\n",
    "print(f\"Earliest date: {min(gnm['date'])}\")\n",
    "print(f\"Most recent date: {max(gnm['date'])}\")\n",
    "print(f\"Type of column: {gnm.date.dtypes}\")"
   ]
  },
  {
   "cell_type": "markdown",
   "metadata": {},
   "source": [
    "### Text"
   ]
  },
  {
   "cell_type": "code",
   "execution_count": 31,
   "metadata": {},
   "outputs": [
    {
     "name": "stdout",
     "output_type": "stream",
     "text": [
      "Number of unique articles: 169552\n",
      "Number of missing values: 0%\n",
      "Data type: <class 'str'>\n"
     ]
    }
   ],
   "source": [
    "print(f\"Number of unique articles: {len(set(gnm.text))}\")\n",
    "perc_miss = round(100 * gnm.text.isna().sum() / gnm.shape[0])\n",
    "print(f\"Number of missing values: {perc_miss}%\")\n",
    "print(f\"Data type: {type(gnm.author.iloc[0])}\")"
   ]
  },
  {
   "cell_type": "markdown",
   "metadata": {},
   "source": [
    "### Author"
   ]
  },
  {
   "cell_type": "code",
   "execution_count": 32,
   "metadata": {},
   "outputs": [
    {
     "name": "stdout",
     "output_type": "stream",
     "text": [
      "Number of unique authors: 23477\n",
      "Percentage of missing values: 74%\n",
      "Data type: <class 'str'>\n"
     ]
    }
   ],
   "source": [
    "print(f\"Number of unique authors: {len(gnm.groupby(['author']).size())}\")\n",
    "perc_miss = round(100 * gnm.author.isna().sum() / gnm.shape[0])\n",
    "print(f\"Percentage of missing values: {perc_miss}%\")\n",
    "print(f\"Data type: {type(gnm['author'].iloc[0])}\")"
   ]
  },
  {
   "cell_type": "markdown",
   "metadata": {},
   "source": [
    "### Domain"
   ]
  },
  {
   "cell_type": "code",
   "execution_count": 33,
   "metadata": {},
   "outputs": [
    {
     "name": "stdout",
     "output_type": "stream",
     "text": [
      "Number of unique domains: 10595\n",
      "Percentage of missing values: 0%\n",
      "Data type: <class 'str'>\n"
     ]
    }
   ],
   "source": [
    "print(f\"Number of unique domains: {len(gnm.groupby(['origin']).size())}\")\n",
    "perc_miss = round(100 * gnm.origin.isna().sum() / gnm.shape[0])\n",
    "print(f\"Percentage of missing values: {perc_miss}%\")\n",
    "print(f\"Data type: {type(gnm['origin'].iloc[0])}\")"
   ]
  },
  {
   "cell_type": "markdown",
   "metadata": {},
   "source": [
    "### Country"
   ]
  },
  {
   "cell_type": "code",
   "execution_count": 34,
   "metadata": {},
   "outputs": [
    {
     "name": "stdout",
     "output_type": "stream",
     "text": [
      "Number of unique countries: 231\n",
      "Percentage of missing values: 6%\n",
      "Data type: <class 'str'>\n"
     ]
    }
   ],
   "source": [
    "print(f\"Number of unique countries: {len(gnm.groupby(['country']).size())}\")\n",
    "perc_miss = round(100 * gnm.country.isna().sum() / gnm.shape[0])\n",
    "print(f\"Percentage of missing values: {perc_miss}%\")\n",
    "print(f\"Data type: {type(gnm['country'].iloc[0])}\")"
   ]
  },
  {
   "cell_type": "markdown",
   "metadata": {},
   "source": [
    "# MUC"
   ]
  },
  {
   "cell_type": "code",
   "execution_count": 71,
   "metadata": {},
   "outputs": [
    {
     "data": {
      "text/html": [
       "<div>\n",
       "<style scoped>\n",
       "    .dataframe tbody tr th:only-of-type {\n",
       "        vertical-align: middle;\n",
       "    }\n",
       "\n",
       "    .dataframe tbody tr th {\n",
       "        vertical-align: top;\n",
       "    }\n",
       "\n",
       "    .dataframe thead th {\n",
       "        text-align: right;\n",
       "    }\n",
       "</style>\n",
       "<table border=\"1\" class=\"dataframe\">\n",
       "  <thead>\n",
       "    <tr style=\"text-align: right;\">\n",
       "      <th></th>\n",
       "      <th>muc_id</th>\n",
       "      <th>location</th>\n",
       "      <th>date</th>\n",
       "      <th>text</th>\n",
       "    </tr>\n",
       "  </thead>\n",
       "  <tbody>\n",
       "    <tr>\n",
       "      <th>0</th>\n",
       "      <td>DEV-MUC3-0001</td>\n",
       "      <td>SAN SALVADOR</td>\n",
       "      <td>1990-01-03</td>\n",
       "      <td>The Arce Battalion command has reported that a...</td>\n",
       "    </tr>\n",
       "    <tr>\n",
       "      <th>1</th>\n",
       "      <td>DEV-MUC3-0002</td>\n",
       "      <td>SAN SALVADOR</td>\n",
       "      <td>1990-01-04</td>\n",
       "      <td>According to statements made by a Salvadoran o...</td>\n",
       "    </tr>\n",
       "    <tr>\n",
       "      <th>2</th>\n",
       "      <td>DEV-MUC3-0003</td>\n",
       "      <td>SANTIAGO</td>\n",
       "      <td>1990-01-05</td>\n",
       "      <td>The government junta yesterday approved a draf...</td>\n",
       "    </tr>\n",
       "    <tr>\n",
       "      <th>3</th>\n",
       "      <td>DEV-MUC3-0004</td>\n",
       "      <td>CLANDESTINE</td>\n",
       "      <td>1990-01-08</td>\n",
       "      <td>Goodbye general Rafael Bustillo, false hope fo...</td>\n",
       "    </tr>\n",
       "    <tr>\n",
       "      <th>4</th>\n",
       "      <td>DEV-MUC3-0005</td>\n",
       "      <td>CLANDESTINE</td>\n",
       "      <td>1990-01-08</td>\n",
       "      <td>A war bulletin indicates that on 6 January at ...</td>\n",
       "    </tr>\n",
       "  </tbody>\n",
       "</table>\n",
       "</div>"
      ],
      "text/plain": [
       "          muc_id      location        date  \\\n",
       "0  DEV-MUC3-0001  SAN SALVADOR  1990-01-03   \n",
       "1  DEV-MUC3-0002  SAN SALVADOR  1990-01-04   \n",
       "2  DEV-MUC3-0003      SANTIAGO  1990-01-05   \n",
       "3  DEV-MUC3-0004   CLANDESTINE  1990-01-08   \n",
       "4  DEV-MUC3-0005   CLANDESTINE  1990-01-08   \n",
       "\n",
       "                                                text  \n",
       "0  The Arce Battalion command has reported that a...  \n",
       "1  According to statements made by a Salvadoran o...  \n",
       "2  The government junta yesterday approved a draf...  \n",
       "3  Goodbye general Rafael Bustillo, false hope fo...  \n",
       "4  A war bulletin indicates that on 6 January at ...  "
      ]
     },
     "execution_count": 71,
     "metadata": {},
     "output_type": "execute_result"
    }
   ],
   "source": [
    "muc = pd.read_csv(ROOT + \"\\\\processed_data\\\\muc.csv\", index_col=0)\n",
    "muc.head()"
   ]
  },
  {
   "cell_type": "markdown",
   "metadata": {},
   "source": [
    "### Location"
   ]
  },
  {
   "cell_type": "code",
   "execution_count": 72,
   "metadata": {},
   "outputs": [
    {
     "name": "stdout",
     "output_type": "stream",
     "text": [
      "Number of unique locations: 87\n",
      "Percentage of missing values: 0%\n",
      "Data type: <class 'str'>\n"
     ]
    }
   ],
   "source": [
    "print(f\"Number of unique locations: {len(muc.groupby(['location']).size())}\")\n",
    "perc_miss = round(100 * muc.location.isna().sum() / muc.shape[0])\n",
    "print(f\"Percentage of missing values: {perc_miss}%\")\n",
    "print(f\"Data type: {type(muc['location'].iloc[0])}\")"
   ]
  },
  {
   "cell_type": "markdown",
   "metadata": {},
   "source": [
    "### Date"
   ]
  },
  {
   "cell_type": "code",
   "execution_count": 73,
   "metadata": {},
   "outputs": [
    {
     "name": "stdout",
     "output_type": "stream",
     "text": [
      "Number of unique dates: 466\n",
      "Percentage of missing values: 6%\n",
      "Data type: <class 'str'>\n"
     ]
    }
   ],
   "source": [
    "print(f\"Number of unique dates: {len(muc.groupby(['date']).size())}\")\n",
    "perc_miss = round(100 * muc.date.isna().sum() / muc.shape[0])\n",
    "print(f\"Percentage of missing values: {perc_miss}%\")\n",
    "print(f\"Data type: {type(muc['date'].iloc[0])}\")"
   ]
  },
  {
   "cell_type": "markdown",
   "metadata": {},
   "source": [
    "### Text"
   ]
  },
  {
   "cell_type": "code",
   "execution_count": 74,
   "metadata": {},
   "outputs": [
    {
     "name": "stdout",
     "output_type": "stream",
     "text": [
      "Number of unique texts: 1698\n",
      "Percentage of missing values: 0%\n",
      "Data type: <class 'str'>\n"
     ]
    }
   ],
   "source": [
    "print(f\"Number of unique texts: {len(muc.groupby(['text']).size())}\")\n",
    "perc_miss = round(100 * muc.text.isna().sum() / muc.shape[0])\n",
    "print(f\"Percentage of missing values: {perc_miss}%\")\n",
    "print(f\"Data type: {type(muc['text'].iloc[0])}\")"
   ]
  }
 ],
 "metadata": {
  "interpreter": {
   "hash": "529c65a099ec80885ec2eff43b42ddd85d3b5611c57bcaf738fb7ba7dbdb85b1"
  },
  "kernelspec": {
   "display_name": "Python 3",
   "language": "python",
   "name": "python3"
  },
  "language_info": {
   "codemirror_mode": {
    "name": "ipython",
    "version": 3
   },
   "file_extension": ".py",
   "mimetype": "text/x-python",
   "name": "python",
   "nbconvert_exporter": "python",
   "pygments_lexer": "ipython3",
   "version": "3.7.10"
  }
 },
 "nbformat": 4,
 "nbformat_minor": 1
}
