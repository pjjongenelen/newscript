{
 "cells": [
  {
   "cell_type": "code",
   "execution_count": 1,
   "source": [
    "from preprocessing import get_entities\r\n",
    "\r\n",
    "get_entities()"
   ],
   "outputs": [
    {
     "output_type": "stream",
     "name": "stderr",
     "text": [
      "2021-09-21 13:15:47 WARNING: Can not find mwt: default from official model list. Ignoring it.\n"
     ]
    },
    {
     "output_type": "stream",
     "name": "stdout",
     "text": [
      "Retrieved Stanza document (688 words, 688 tokens).\n",
      "Identified 10654 eventive nouns.\n",
      "Extracting entities...\n"
     ]
    },
    {
     "output_type": "execute_result",
     "data": {
      "text/plain": [
       "[['Detectives', 0, 1, 'seized', 3, 'nsubj', '', -1],\n",
       " ['sum', 0, 6, 'seized', 3, 'obj', 'large', 5],\n",
       " ['drugs', 0, 11, 'seized', 3, 'obl', '', -1],\n",
       " ['designer', 0, 14, 'watch', 15, 'compound', '', -1],\n",
       " ['associate', 0, 20, 'targeting', 17, 'obj', 'female', 19],\n",
       " ['lord', 0, 23, 'associate', 20, 'nmod', '', -1],\n",
       " ['gardai', 1, 2, 'raided', 3, 'nsubj', 'Armed', 1],\n",
       " ['property', 1, 7, 'raided', 3, 'obj', '', -1],\n",
       " ['evening', 1, 10, 'raided', 3, 'obl', '', -1],\n",
       " ['part', 1, 12, 'raided', 3, 'obl', 'investigation', 16],\n",
       " ['investigation', 1, 16, 'part', 12, 'nmod', 'ongoing', 15],\n",
       " ['mob', 1, 20, 'investigation', 16, 'nmod', 'Rattigan', 18],\n",
       " ['killer', 2, 3, 'suspected', 16, 'nsubj:pass', 'convicted', 2],\n",
       " ['term', 2, 10, 'serving', 7, 'obj', 'Prison', 13],\n",
       " ['drugs', 2, 22, 'operation', 23, 'compound', '', -1],\n",
       " ['operation', 2, 23, 'run', 20, 'obj', 'bars', 25],\n",
       " ['bars', 2, 25, 'operation', 23, 'nmod', '', -1],\n",
       " ['mob', 2, 29, 'believed', 31, 'nsubj:pass', 'his', 28],\n",
       " ['network', 2, 37, 'widening', 34, 'obj', 'criminal', 36],\n",
       " ['release', 2, 41, 'widening', 34, 'obl', 'his', 40],\n",
       " ['year', 2, 43, 'widening', 34, 'obl:tmod', 'next', 42],\n",
       " ['detectives', 3, 4, 'raided', 11, 'nsubj', '', -1],\n",
       " ['property', 3, 13, 'raided', 11, 'obj', 'area', 17],\n",
       " ['foot', 3, 19, 'raided', 11, 'obl', 'warrant', 23],\n",
       " ['warrant', 3, 23, 'foot', 19, 'nmod', '', -1],\n",
       " ['house', 5, 2, 'linked', 4, 'nsubj:pass', '', -1],\n",
       " ['associate', 5, 9, 'linked', 4, 'obl', 'female', 8],\n",
       " ['search', 5, 16, 'seized', 26, 'obl', 'premises', 19],\n",
       " ['premises', 5, 19, 'search', 16, 'nmod', '', -1],\n",
       " ['Detectives', 6, 1, 'recovered', 3, 'nsubj', '', -1],\n",
       " ['watch', 6, 5, 'recovered', 3, 'obj', '', -1],\n",
       " ['cash', 7, 2, 'seized', 6, 'nsubj:pass', '', -1],\n",
       " ['suspicion', 7, 8, 'seized', 6, 'obl', '', -1],\n",
       " ['arrests', 7, 18, 'made', 22, 'nsubj:pass', '', -1],\n",
       " ['raid', 8, 15, 'time', 12, 'nmod', '', -1],\n",
       " ['drugs', 8, 31, 'trade', 32, 'compound', '', -1],\n",
       " ['trade', 8, 32, 'involved', 28, 'obl', '', -1],\n",
       " ['network', 9, 14, 'has', 12, 'obj', 'outside', 17],\n",
       " ['sale', 9, 25, 'involved', 22, 'obl', 'drugs', 29],\n",
       " ['supply', 9, 27, 'sale', 25, 'conj', '', -1],\n",
       " ['drugs', 9, 29, 'sale', 25, 'nmod', 'Dublin', 32],\n",
       " ['source', 9, 36, 'told', 37, 'nsubj', '', -1],\n",
       " ['operation', 10, 4, 'co-ordinated', 6, 'nsubj:pass', 'latest', 3],\n",
       " ['crime', 10, 10, 'management', 11, 'compound', '', -1],\n",
       " ['management', 10, 11, 'co-ordinated', 6, 'obl', 'local', 9],\n",
       " ['units', 10, 15, 'continuing', 18, 'nsubj', 'national', 14],\n",
       " ['gang', 10, 22, 'investigate', 20, 'obj', '', -1],\n",
       " ['concern', 11, 3, 'is', 4, 'nsubj', '', -1],\n",
       " ['gang', 11, 12, 'building', 8, 'obj', 'his', 10],\n",
       " ['gardai', 11, 19, 'release', 17, 'conj', '', -1],\n",
       " ['Detectives', 12, 1, 'made', 23, 'nsubj', 'Crumlin', 3],\n",
       " ['gang', 12, 15, 'investigating', 13, 'obj', '', -1],\n",
       " ['decades', 12, 20, 'investigating', 13, 'obl', 'two', 19],\n",
       " ['number', 12, 25, 'made', 23, 'obj', 'seizures', 28],\n",
       " ['seizures', 12, 28, 'number', 25, 'nmod', 'significant', 27],\n",
       " ['months', 12, 34, 'made', 23, 'obl', 'recent', 33],\n",
       " ['worth', 13, 8, 'seized', 12, 'nsubj:pass', 'drugs', 10],\n",
       " ['lieutenant', 13, 16, 'swooped', 20, 'nsubj', 'key', 15],\n",
       " ['gardai', 13, 19, 'swooped', 20, 'nsubj', '', -1],\n",
       " ['number', 13, 23, 'swooped', 20, 'obl', 'cars', 25],\n",
       " ['cars', 13, 25, 'number', 23, 'nmod', '', -1],\n",
       " ['park', 13, 35, 'swooped', 20, 'obl', '', -1],\n",
       " ['detectives', 14, 2, 'searched', 8, 'nsubj', 'Local', 1],\n",
       " ['houses', 14, 10, 'searched', 8, 'obj', 'two', 9],\n",
       " ['areas', 14, 16, 'searched', 8, 'obl', '', -1],\n",
       " ['people', 14, 20, 'arrested', 18, 'obj', 'two', 19],\n",
       " ['suspect', 15, 13, 'involved', 16, 'nsubj:pass', '', -1],\n",
       " ['day', 15, 22, 'operations', 23, 'compound', 'day-to', 20],\n",
       " ['operations', 15, 23, 'running', 18, 'obj', '', -1],\n",
       " ['bars', 15, 29, 'running', 18, 'advcl', '', -1],\n",
       " ['men', 17, 3, 'involved', 6, 'nsubj:pass', 'two', 2],\n",
       " ['feud', 17, 12, 'involved', 6, 'obl', '', -1],\n",
       " ['meetings', 17, 29, 'reconciled', 26, 'obl', '', -1],\n",
       " ['years', 18, 14, 'jailed', 11, 'obl', 'nine', 13],\n",
       " ['death', 18, 20, 'stabbing', 16, 'obl', '', -1],\n",
       " ['manslaughter', 19, 13, 'pleaded', 9, 'obl', 'Mr', 15],\n",
       " ['heart', 19, 26, 'stabbed', 23, 'obl', '', -1],\n",
       " ['knife', 19, 29, 'stabbed', 23, 'obl', 'Abrakebabra', 32],\n",
       " ['sentence', 21, 4, 'made', 2, 'obj', 'concurrent', 5],\n",
       " ['murder', 22, 6, 'tried', 4, 'obl', '', -1],\n",
       " ['jury', 23, 3, 'reach', 6, 'nsubj', 'first', 2],\n",
       " ['verdict', 23, 8, 'reach', 6, 'obj', '', -1],\n",
       " ['jury', 23, 13, 'convicted', 14, 'nsubj', 'second', 12],\n",
       " ['conviction', 24, 4, 'appealed', 8, 'nsubj:pass', '', -1],\n",
       " ['year', 25, 8, 'retrial', 6, 'obl:tmod', 'last', 7],\n",
       " ['plea', 25, 18, 'entered', 15, 'obj', 'guilty', 17],\n",
       " ['charge', 25, 22, 'entered', 15, 'obl', 'lesser', 21],\n",
       " ['year', 26, 17, 'sentence', 18, 'compound', '17', 15],\n",
       " ['sentence', 26, 18, 'given', 13, 'obj', 'sale', 21],\n",
       " ['sale', 26, 21, 'sentence', 18, 'nmod', 'drugs', 25],\n",
       " ['supply', 26, 23, 'sale', 21, 'conj', '', -1],\n",
       " ['drugs', 26, 25, 'sale', 21, 'nmod', '', -1],\n",
       " ['prison', 26, 28, 'sale', 21, 'nmod', '', -1],\n",
       " ['date', 26, 33, 'given', 13, 'obl', 'remission', 35]]"
      ]
     },
     "metadata": {},
     "execution_count": 1
    }
   ],
   "metadata": {}
  }
 ],
 "metadata": {
  "interpreter": {
   "hash": "50fbbfffa3029515f2da975249bf872cde0e912c97896f8b79f39d5b152c3369"
  },
  "kernelspec": {
   "name": "python3",
   "display_name": "Python 3.9.6 64-bit ('.venv': venv)"
  },
  "language_info": {
   "codemirror_mode": {
    "name": "ipython",
    "version": 3
   },
   "file_extension": ".py",
   "mimetype": "text/x-python",
   "name": "python",
   "nbconvert_exporter": "python",
   "pygments_lexer": "ipython3",
   "version": "3.9.6"
  }
 },
 "nbformat": 4,
 "nbformat_minor": 2
}