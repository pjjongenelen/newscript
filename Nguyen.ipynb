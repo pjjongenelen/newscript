{
 "cells": [
  {
   "cell_type": "code",
   "execution_count": 1,
   "source": [
    "# imports\r\n",
    "import json\r\n",
    "import stanza\r\n",
    "import warnings\r\n",
    "\r\n",
    "from nltk.corpus import wordnet as wn\r\n",
    "from nltk.tokenize import sent_tokenize\r\n",
    "from stanza.server import CoreNLPClient"
   ],
   "outputs": [],
   "metadata": {}
  },
  {
   "cell_type": "markdown",
   "source": [
    "## 1.1 Head word extraction"
   ],
   "metadata": {}
  },
  {
   "cell_type": "code",
   "execution_count": 2,
   "source": [
    "def get_head_words(sents, endpoint='8000'):\r\n",
    "    # extracts single-noun head words from a list of sentences\r\n",
    "\r\n",
    "    with CoreNLPClient(properties='corenlp_server-2e15724b8064491b.props', endpoint='http://localhost:8000', memory='8G', be_quiet=True) as client:\r\n",
    "        matches = client.tregex(text=sents[0], pattern='NP')  # finds the noun phrases in the given text\r\n",
    "\r\n",
    "    # extract the noun phrases and their indices\r\n",
    "    noun_phrases = [[text, begin, end] for text, begin, end in\r\n",
    "                zip([sentence[match_id]['spanString'] for sentence in matches['sentences'] for match_id in sentence],\r\n",
    "                    [sentence[match_id]['characterOffsetBegin'] for sentence in matches['sentences'] for match_id in sentence],\r\n",
    "                    [sentence[match_id]['characterOffsetEnd'] for sentence in matches['sentences'] for match_id in sentence])]\r\n",
    "\r\n",
    "    # find head words that contain other head words (let's call them multiples)\r\n",
    "    multiples = []\r\n",
    "    for text1, i1, i2 in noun_phrases:\r\n",
    "        for text2, j1, j2 in noun_phrases:\r\n",
    "            if (text1 != text2) and (i1, i2 != j1, j2):\r\n",
    "                if (i1 >= j1) & (i2 <= j2):\r\n",
    "                    multiples.append([text2, j1, j2])\r\n",
    "    noun_phrases = [[text, i1, i2] for [text, i1, i2] in noun_phrases if [text, i1, i2] not in multiples]\r\n",
    "    \r\n",
    "    # turn multi-word noun phrases into single head words\r\n",
    "    nlp = stanza.Pipeline(lang='en', processors='tokenize,pos,lemma,depparse', verbose=False)\r\n",
    "    head_words = []\r\n",
    "    for [text, i1, i2] in noun_phrases:\r\n",
    "        for word in nlp(text.lower()).sentences[0].words:\r\n",
    "            if word.deprel == \"root\":\r\n",
    "                head_words.append([word.text, word.start_char, word.end_char])\r\n",
    "\r\n",
    "    return head_words"
   ],
   "outputs": [],
   "metadata": {}
  },
  {
   "cell_type": "markdown",
   "source": [
    "## 1.2 Trigger extraction"
   ],
   "metadata": {}
  },
  {
   "cell_type": "code",
   "execution_count": 3,
   "source": [
    "def get_triggers(sents):\r\n",
    "    triggers = []\r\n",
    "    # 1) get verbs\r\n",
    "    nlp = stanza.Pipeline(lang='en', processors='tokenize,mwt,pos', verbose=False)\r\n",
    "    doc = nlp(sents[0])\r\n",
    "    for sent in doc.sentences:\r\n",
    "        for word in sent.words:\r\n",
    "            if word.upos == 'VERB':\r\n",
    "                triggers.append(word.text)\r\n",
    "\r\n",
    "    # 2) get 'eventive' nouns from the two wordnet synsets\r\n",
    "    # from the definitions and examples we can clearly see that we need the synsets 'event.n.01' and 'act.n.02'\r\n",
    "    with warnings.catch_warnings():\r\n",
    "        warnings.simplefilter(\"ignore\")\r\n",
    "        evnouns = list(set([w for s in wn.synset('event.n.01').closure(lambda s:s.hyponyms()) for w in s.lemma_names()]))\r\n",
    "        evnouns += list(set([w for s in wn.synset('act.n.02').closure(lambda s:s.hyponyms()) for w in s.lemma_names()]))\r\n",
    "\r\n",
    "    # check if any eventive nouns occur in the sentence\r\n",
    "    \r\n",
    "\r\n",
    "    # 3) maintain only triggers where a head word serves as its subject, object or preposition\r\n",
    "\r\n",
    "    return triggers"
   ],
   "outputs": [],
   "metadata": {}
  },
  {
   "cell_type": "markdown",
   "source": [
    "## 1.3 Drop head words that are not related to at least one trigger"
   ],
   "metadata": {}
  },
  {
   "cell_type": "code",
   "execution_count": null,
   "source": [],
   "outputs": [],
   "metadata": {}
  },
  {
   "cell_type": "markdown",
   "source": [
    "## 1.4 Extract attributes of the remaining head words"
   ],
   "metadata": {}
  },
  {
   "cell_type": "code",
   "execution_count": null,
   "source": [],
   "outputs": [],
   "metadata": {}
  },
  {
   "cell_type": "markdown",
   "source": [
    "# Testing section 1"
   ],
   "metadata": {}
  },
  {
   "cell_type": "code",
   "execution_count": 4,
   "source": [
    "# load sample article\r\n",
    "with open('database_dump_drugs/0.json') as file:\r\n",
    "    article = json.load(file)[0]['article_content'][:423]"
   ],
   "outputs": [],
   "metadata": {}
  },
  {
   "cell_type": "code",
   "execution_count": 5,
   "source": [
    "# testing 1.1\r\n",
    "sentences = [sent for sent in sent_tokenize(article)]\r\n",
    "get_head_words(sents=sentences)"
   ],
   "outputs": [
    {
     "output_type": "stream",
     "name": "stderr",
     "text": [
      "2021-07-19 16:55:24 INFO: Starting server with command: java -Xmx8G -cp C:\\Users\\timjo\\stanza_corenlp\\* edu.stanford.nlp.pipeline.StanfordCoreNLPServer -port 8000 -timeout 60000 -threads 5 -maxCharLength 100000 -quiet True -serverProperties corenlp_server-2e15724b8064491b.props -preload -outputFormat serialized\n"
     ]
    },
    {
     "output_type": "stream",
     "name": "stdout",
     "text": [
      "[['An Ethiopian foreign national', 0, 29], ['eMzinoni', 46, 54], ['drugs', 70, 75], ['his tuck shop', 79, 92], ['Friday, 6', 96, 105]]\n"
     ]
    },
    {
     "output_type": "execute_result",
     "data": {
      "text/plain": [
       "[['national', 21, 29],\n",
       " ['emzinoni', 0, 8],\n",
       " ['drugs', 0, 5],\n",
       " ['shop', 9, 13],\n",
       " ['friday', 0, 6]]"
      ]
     },
     "metadata": {},
     "execution_count": 5
    }
   ],
   "metadata": {}
  },
  {
   "cell_type": "code",
   "execution_count": 6,
   "source": [
    "# testing 1.2\r\n",
    "get_triggers(sents=sentences)"
   ],
   "outputs": [
    {
     "output_type": "execute_result",
     "data": {
      "text/plain": [
       "['arrested', 'dealing']"
      ]
     },
     "metadata": {},
     "execution_count": 6
    }
   ],
   "metadata": {}
  }
 ],
 "metadata": {
  "orig_nbformat": 4,
  "language_info": {
   "name": "python"
  }
 },
 "nbformat": 4,
 "nbformat_minor": 2
}