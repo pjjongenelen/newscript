{
 "cells": [
  {
   "cell_type": "code",
   "execution_count": 1,
   "metadata": {},
   "outputs": [],
   "source": [
    "# imports\n",
    "import json\n",
    "import stanza\n",
    "import warnings\n",
    "\n",
    "from nltk.corpus import wordnet as wn\n",
    "from nltk.tokenize import sent_tokenize\n",
    "from stanza.server import CoreNLPClient"
   ]
  },
  {
   "cell_type": "markdown",
   "metadata": {},
   "source": [
    "## 1.1 Head word extraction"
   ]
  },
  {
   "cell_type": "code",
   "execution_count": 2,
   "metadata": {},
   "outputs": [],
   "source": [
    "def get_head_words(sents, endpoint='8000'):\n",
    "    \"\"\"\n",
    "    Extracts single-noun head words from an article.\n",
    "\n",
    "    1) Extracts all noun phrases, tagged with 'NP' by the CoreNLPClient,\n",
    "    2) Removes multiples (NPs that contain other NPS),\n",
    "    3) Transforms multi-word NPs into single-word head nouns based on a simple Stanza Pipeline.\n",
    "\n",
    "    Parameters:\n",
    "    sents (list): Sentence-tokenized article\n",
    "    endpoint (string): Port to use for the CoreNLPClient\n",
    "\n",
    "    Returns:\n",
    "    list: Head word ids\n",
    "    \"\"\"\n",
    "\n",
    "    # extract the noun phrases (tregex) and their indices\n",
    "    with CoreNLPClient(properties='corenlp_server-2e15724b8064491b.props', endpoint=f'http://localhost:{endpoint}', memory='8G', be_quiet=True) as client:\n",
    "        matches = client.tregex(text=sents[0], pattern='NP')\n",
    "\n",
    "    noun_phrases = [[text, begin, end] for text, begin, end in\n",
    "                zip([sentence[match_id]['spanString'] for sentence in matches['sentences'] for match_id in sentence],\n",
    "                    [sentence[match_id]['characterOffsetBegin'] for sentence in matches['sentences'] for match_id in sentence],\n",
    "                    [sentence[match_id]['characterOffsetEnd'] for sentence in matches['sentences'] for match_id in sentence])]\n",
    "\n",
    "    # remove multiples\n",
    "    multiples = []\n",
    "    for text1, i1, i2 in noun_phrases:\n",
    "        for text2, j1, j2 in noun_phrases:\n",
    "            if (text1 != text2) and (i1, i2 != j1, j2):\n",
    "                if (i1 >= j1) & (i2 <= j2):\n",
    "                    multiples.append([text2, j1, j2])\n",
    "    noun_phrases = [[text, i1, i2] for [text, i1, i2] in noun_phrases if [text, i1, i2] not in multiples]\n",
    "    \n",
    "    # turn multi-word noun phrases into single head words\n",
    "    nlp = stanza.Pipeline(lang='en', processors='tokenize,pos,lemma,depparse', verbose=False)\n",
    "    head_words = []\n",
    "    for [text, i1, i2] in noun_phrases:\n",
    "        for word in nlp(text.lower()).sentences[0].words:\n",
    "            if word.deprel == \"root\":\n",
    "                _ = i1 + text.lower().find(word.text)  # start index of the root word in the original sentence\n",
    "                head_words.append([_, _ + len(word.text)])\n",
    "\n",
    "    # swap the word indices for their respective ids\n",
    "    doc = nlp(sents[0])\n",
    "    head_words = [word.id for [i1, i2] in head_words for sent in doc.sentences for word in sent.words if word.start_char == i1 and word.end_char == i2]  \n",
    "\n",
    "    return head_words"
   ]
  },
  {
   "cell_type": "markdown",
   "metadata": {},
   "source": [
    "## 1.2 Trigger extraction"
   ]
  },
  {
   "cell_type": "code",
   "execution_count": 11,
   "metadata": {},
   "outputs": [],
   "source": [
    "def get_triggers(sents, hw):\n",
    "    \"\"\"\n",
    "    Extracts head words that have either a verb or an eventive noun as its subject/object/preposition.\n",
    "\n",
    "    First extracts all triggers: verbs or eventive nouns based on the Wordnet Synsets indicated by the authors.\n",
    "    Then goes through all head words in hw, and finds those that have a trigger as its subject/object/preposition.\n",
    "    Finally, looks for transitive triggers, and extracts the correct subject from the root verb.\n",
    "\n",
    "    Parameters:\n",
    "    sents (list): sentence-tokenized article\n",
    "    head_words (list): list of head word IDs\n",
    "\n",
    "    Returns:\n",
    "    list: Triplet lists of head word, trigger, and relation - e.g., [[4, 6, 'nsubj:pass']]\n",
    "    \"\"\"\n",
    "\n",
    "    doc = nlp(sents[0])        \n",
    "    verbs = [word.id for word in doc.sentences[0].words if word.upos == 'VERB']\n",
    "    lemmas = [[word.lemma, word.id] for word in doc.sentences[0].words]\n",
    "\n",
    "    # get 'eventive' nouns from the two wordnet synsets mentioned in the article and add these to the list of verbs, preventing duplicates\n",
    "    with warnings.catch_warnings():\n",
    "        warnings.simplefilter(\"ignore\")\n",
    "        wn_evnouns = list(set([w for s in wn.synset('event.n.01').closure(lambda s:s.hyponyms()) for w in s.lemma_names()]))\n",
    "        wn_evnouns += list(set([w for s in wn.synset('act.n.02').closure(lambda s:s.hyponyms()) for w in s.lemma_names()]))\n",
    "\n",
    "    # merge the triggers and wn_evnouns lists\n",
    "    lemmas = [[word.lemma, word.id] for word in doc.sentences[0].words]\n",
    "    triggers = sorted(verbs + [i for [lemma, i] in lemmas if lemma in wn_evnouns and i not in verbs])\n",
    "\n",
    "    # find all head words that are related to a trigger\n",
    "    triggers = [[word.id, word.head, word.deprel, word.xpos] for sent in doc.sentences for word in sent.words if ((\"subj\" in word.deprel) or (\"obj\" in word.deprel) or (\"IN\" in word.xpos)) and (word.head in triggers) and (word.id in hw)]\n",
    "\n",
    "    # get either the deptrel or xpos, depending on whether it is a subject, object or preposition\n",
    "    triggers = [[id1, head, rel_dep] if ((\"subj\" in rel_dep) or (\"obj\" in rel_dep)) else [id1, head, rel_xpos] for [id1, head, rel_dep, rel_xpos] in triggers]\n",
    "\n",
    "    # check for transitive triggers and get the subject from the root\n",
    "    for verb in verbs:\n",
    "        head = doc.sentences[0].words[verb-1].head\n",
    "        if head != 0:\n",
    "            for [n, v, rel] in triggers:\n",
    "                if v == head and rel == 'nsubj':\n",
    "                    triggers.append([n, verb, rel])\n",
    "\n",
    "\n",
    "    return triggers"
   ]
  },
  {
   "cell_type": "markdown",
   "metadata": {},
   "source": [
    "## 1.3 Extract attributes of the remaining head words"
   ]
  },
  {
   "cell_type": "code",
   "execution_count": null,
   "metadata": {},
   "outputs": [],
   "source": []
  },
  {
   "cell_type": "markdown",
   "metadata": {},
   "source": [
    "# Testing section"
   ]
  },
  {
   "cell_type": "code",
   "execution_count": 4,
   "metadata": {},
   "outputs": [],
   "source": [
    "# load sample article\n",
    "with open('database_dump_drugs/0.json') as file:\n",
    "    article = json.load(file)[0]['article_content'][:423]\n",
    "nlp = stanza.Pipeline(lang='en', processors='tokenize,mwt,pos,lemma,depparse', verbose=False)"
   ]
  },
  {
   "cell_type": "code",
   "execution_count": 5,
   "metadata": {},
   "outputs": [
    {
     "name": "stdout",
     "output_type": "stream",
     "text": [
      "[3, 7, 11]\n"
     ]
    }
   ],
   "source": [
    "# testing 1.1\n",
    "sentences = sent_tokenize(article)\n",
    "sentences[0] = 'Two armed men attacked the police station and killed a policeman.'\n",
    "head_words = get_head_words(sents=sentences)\n",
    "print(head_words)"
   ]
  },
  {
   "cell_type": "code",
   "execution_count": 12,
   "metadata": {},
   "outputs": [],
   "source": [
    "# testing 1.2\n",
    "tr = get_triggers(sents=sentences, hw=head_words)"
   ]
  },
  {
   "cell_type": "code",
   "execution_count": 15,
   "metadata": {},
   "outputs": [
    {
     "name": "stdout",
     "output_type": "stream",
     "text": [
      "Input sentence: Two armed men attacked the police station and killed a policeman.\n",
      "Head word: men\t Trigger: attacked\t Relation: nsubj\n",
      "Head word: station\t Trigger: attacked\t Relation: obj\n",
      "Head word: policeman\t Trigger: killed\t Relation: obj\n",
      "Head word: men\t Trigger: killed\t Relation: nsubj\n"
     ]
    }
   ],
   "source": [
    "# for demonstration purposes:\n",
    "doc = nlp(sentences[0])\n",
    "print(f'Input sentence: {sentences[0]}')\n",
    "for x in range(len(tr)):\n",
    "    print(f'Head word: {doc.sentences[0].words[tr[x][0]-1].text}\\t Trigger: {doc.sentences[0].words[tr[x][1]-1].text}\\t Relation: {tr[x][2]}')"
   ]
  }
 ],
 "metadata": {
  "interpreter": {
   "hash": "529c65a099ec80885ec2eff43b42ddd85d3b5611c57bcaf738fb7ba7dbdb85b1"
  },
  "kernelspec": {
   "display_name": "Python 3 (ipykernel)",
   "language": "python",
   "name": "python3"
  },
  "language_info": {
   "codemirror_mode": {
    "name": "ipython",
    "version": 3
   },
   "file_extension": ".py",
   "mimetype": "text/x-python",
   "name": "python",
   "nbconvert_exporter": "python",
   "pygments_lexer": "ipython3",
   "version": "3.7.10"
  }
 },
 "nbformat": 4,
 "nbformat_minor": 2
}
