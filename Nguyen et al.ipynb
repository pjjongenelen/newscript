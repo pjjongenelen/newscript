{
 "cells": [
  {
   "cell_type": "code",
   "execution_count": 2,
   "id": "42967b49",
   "metadata": {},
   "outputs": [],
   "source": [
    "import json\n",
    "import stanza\n",
    "\n",
    "from stanza.server import CoreNLPClient"
   ]
  },
  {
   "cell_type": "code",
   "execution_count": 2,
   "id": "2ce1833d",
   "metadata": {},
   "outputs": [],
   "source": [
    "# run once to install CoreNLP\n",
    "stanza.install_corenlp()"
   ]
  },
  {
   "cell_type": "markdown",
   "id": "512a07fb",
   "metadata": {},
   "source": [
    "# 1 - Entity extraction\n",
    "\"Entities are represented as a triple containing: a head word <i>h</i>, a list <i>A</A> of attribute relations, and a list <i>T</i> of trigger relations\""
   ]
  },
  {
   "cell_type": "code",
   "execution_count": 3,
   "id": "f145ea3e",
   "metadata": {},
   "outputs": [],
   "source": [
    "def sample_article():\n",
    "    file = json.load(open('database_dump_drugs/0.json'))\n",
    "    return file[0]['article_content']\n",
    "\n",
    "article = sample_article()\n",
    "sent = article[:114]  # first sentence of the article"
   ]
  },
  {
   "cell_type": "markdown",
   "id": "0e15f901",
   "metadata": {},
   "source": [
    "## 1.1 Head word extraction\n",
    "The paper states that \"Head words are extracted from noun phrases.\"  \n",
    "Noun phrases are defined as: \"A word or group of words containing a noun and functioning in a sentence as subject, object, or prepositional object.\""
   ]
  },
  {
   "cell_type": "code",
   "execution_count": null,
   "outputs": [],
   "source": [
    "def head_words(text):\n",
    "    # finds single head words from noun phrases in a given sentence\n",
    "\n",
    "    # extract noun phrases\n",
    "    with CoreNLPClient(properties='corenlp_server-2e15724b8064491b.props') as client:\n",
    "        pattern = 'NP'\n",
    "        matches = client.tregex(text=text, pattern=pattern)\n",
    "    noun_phrases = [sentence[match_id]['spanString'] for sentence in matches['sentences'] for match_id in sentence]\n",
    "\n",
    "    # extract noun phrases that contain multiple nouns\n",
    "    doubles = []\n",
    "    for sentence in matches['sentences']:\n",
    "        match_ids = range(len(sentence))\n",
    "        for m in match_ids:\n",
    "            # for each noun phrase m\n",
    "            for n in match_ids:\n",
    "                # check if there is another noun phrase n that has both start >= and end <= m\n",
    "                if (sentence[str(n)]['characterOffsetBegin'] >= sentence[str(m)]['characterOffsetBegin']) \\\n",
    "                        & (sentence[str(n)]['characterOffsetEnd'] <= sentence[str(m)]['characterOffsetEnd']) \\\n",
    "                        & (m != n) \\\n",
    "                        & (m not in doubles):\n",
    "                    # if so, then m contains n, so we only want to keep n\n",
    "                    doubles.append(m)\n",
    "    for n in doubles:\n",
    "        del(noun_phrases[n])\n",
    "\n",
    "    # turn noun phrases into single head words\n",
    "    head_words = []\n",
    "    nlp = stanza.Pipeline(lang='en', processors='tokenize,pos,lemma,depparse')\n",
    "    for phrase in noun_phrases:\n",
    "        doc = nlp(phrase.lower())\n",
    "        for sent in doc.sentences:\n",
    "            for word in sent.words:\n",
    "                if word.deprel == \"root\":\n",
    "                    head_words.append(word.text)\n",
    "    return head_words"
   ],
   "metadata": {
    "collapsed": false,
    "pycharm": {
     "name": "#%%\n"
    }
   }
  },
  {
   "cell_type": "markdown",
   "source": [
    "## 1.2 Trigger extraction"
   ],
   "metadata": {
    "collapsed": false
   }
  },
  {
   "cell_type": "code",
   "execution_count": null,
   "outputs": [],
   "source": [
    "# 1) get verbs\n",
    "\n",
    "# 2) get 'eventive' nouns from the two wordnet synsets"
   ],
   "metadata": {
    "collapsed": false,
    "pycharm": {
     "name": "#%%\n"
    }
   }
  },
  {
   "cell_type": "markdown",
   "source": [
    "## 1.3 Drop head words that are not related to at least one trigger"
   ],
   "metadata": {
    "collapsed": false,
    "pycharm": {
     "name": "#%% md\n"
    }
   }
  },
  {
   "cell_type": "code",
   "execution_count": null,
   "outputs": [],
   "source": [
    "# some more code"
   ],
   "metadata": {
    "collapsed": false,
    "pycharm": {
     "name": "#%%\n"
    }
   }
  },
  {
   "cell_type": "markdown",
   "source": [
    "## 1.4 Extract head word attributes"
   ],
   "metadata": {
    "collapsed": false
   }
  },
  {
   "cell_type": "code",
   "execution_count": null,
   "outputs": [],
   "source": [
    "# some more code"
   ],
   "metadata": {
    "collapsed": false,
    "pycharm": {
     "name": "#%%\n"
    }
   }
  }
 ],
 "metadata": {
  "interpreter": {
   "hash": "529c65a099ec80885ec2eff43b42ddd85d3b5611c57bcaf738fb7ba7dbdb85b1"
  },
  "kernelspec": {
   "name": "python3",
   "language": "python",
   "display_name": "Python 3 (ipykernel)"
  },
  "language_info": {
   "codemirror_mode": {
    "name": "ipython",
    "version": 3
   },
   "file_extension": ".py",
   "mimetype": "text/x-python",
   "name": "python",
   "nbconvert_exporter": "python",
   "pygments_lexer": "ipython3",
   "version": "3.7.10"
  }
 },
 "nbformat": 4,
 "nbformat_minor": 5
}