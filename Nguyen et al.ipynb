{
 "cells": [
  {
   "cell_type": "code",
   "execution_count": 11,
   "id": "42967b49",
   "metadata": {},
   "outputs": [],
   "source": [
    "import json\n",
    "import stanza\n",
    "\n",
    "from stanza.server import CoreNLPClient"
   ]
  },
  {
   "cell_type": "code",
   "execution_count": 1,
   "id": "2ce1833d",
   "metadata": {},
   "outputs": [],
   "source": [
    "# run once to instsall CoreNLP\n",
    "# stanza.install_corenlp()"
   ]
  },
  {
   "cell_type": "markdown",
   "id": "512a07fb",
   "metadata": {},
   "source": [
    "# 1 - Entity extraction\n",
    "\"Entities are represented as a triple containing: a head word <i>h</i>, a list <i>A</A> of attribute relations and a list <i>T</i> of trigger relations\""
   ]
  },
  {
   "cell_type": "code",
   "execution_count": 3,
   "id": "f145ea3e",
   "metadata": {},
   "outputs": [],
   "source": [
    "def sample_article():\n",
    "    file = json.load(open('database_dump_drugs/0.json'))\n",
    "    return file[0]['article_content']"
   ]
  },
  {
   "cell_type": "markdown",
   "id": "0e15f901",
   "metadata": {},
   "source": [
    "## 1.1 Head word extraction\n",
    "The paper states that \"Head words are extracted from noun phrases.\"  \n",
    "Noun phrases are defined as: \"A word or group of words containing a noun and functioning in a sentence as subject, object, or prepositional object.\"  \n",
    "The authors only use single words as head words. So in the case of the first sentence of the first article, the head word of 'An Ethiopian foreign national' is 'national'.\n",
    "  \n",
    "To do this in Python, we use Stanza's CoreNLPClient.\n",
    "There will probably be too many hits, but a constraint will be added after trigger extraction in section 3.2."
   ]
  },
  {
   "cell_type": "code",
   "execution_count": 9,
   "id": "91de1483",
   "metadata": {},
   "outputs": [],
   "source": [
    "def noun_phrases(_client, _text, annotators=None, head_words=False):\n",
    "    # extracts noun phrases from a given text\n",
    "    pattern = 'NP'\n",
    "    matches = _client.tregex(text=_text,pattern=pattern)\n",
    "\n",
    "    if head_words:\n",
    "        # only return the head words of each noun phrase\n",
    "        matches = head_words\n",
    "    print(matches)"
   ]
  },
  {
   "cell_type": "code",
   "execution_count": 8,
   "id": "f99d944d",
   "metadata": {},
   "outputs": [
    {
     "data": {
      "text/plain": [
       "'An Ethiopian foreign national was arrested in eMzinoni for dealing in drugs at his tuck shop on Friday, 6 October.\\nThis came after the police received a tip off from members of the Community Policing Forum (CPF) that the suspect was involved in the dealing of drugs.\\nOfficers arrested the 27-year-old man.\\nHe will appear in the Bethal Magistrate’s Court.\\nPolice commended the CPF for their dedication and of fighting crime.\\nFor free daily local news in the South, visit our sister newspapers Highvelder, Standerton Advertiser\\nFor more news and interesting articles, like us on Facebook, and follow us on Twitter and Instagram'"
      ]
     },
     "execution_count": 8,
     "metadata": {},
     "output_type": "execute_result"
    }
   ],
   "source": [
    "article = sample_article()\n",
    "article"
   ]
  },
  {
   "cell_type": "code",
   "execution_count": null,
   "id": "d68ae62d",
   "metadata": {},
   "outputs": [
    {
     "name": "stderr",
     "output_type": "stream",
     "text": [
      "2021-07-05 14:37:24 INFO: Writing properties to tmp file: corenlp_server-74183b8f398a4666.props\n",
      "2021-07-05 14:37:24 INFO: Starting server with command: java -Xmx4G -cp C:\\Users\\s161158\\stanza_corenlp\\* edu.stanford.nlp.pipeline.StanfordCoreNLPServer -port 8000 -timeout 30000 -threads 5 -maxCharLength 100000 -quiet False -serverProperties corenlp_server-74183b8f398a4666.props -preload -outputFormat serialized\n"
     ]
    }
   ],
   "source": [
    "with CoreNLPClient(properties='corenlp_server-2e15724b8064491b.props', endpoint='https://localhost:8000') as client:\n",
    "    noun_phrases(client, article, annotators='tokenize, ssplit, pos, lemma, parse')"
   ]
  },
  {
   "cell_type": "markdown",
   "source": [
    "## 1.2 Trigger extraction"
   ],
   "metadata": {
    "collapsed": false
   }
  },
  {
   "cell_type": "code",
   "execution_count": null,
   "outputs": [],
   "source": [
    "# get verbs\n",
    "\n",
    "# get eventive nouns from the two wordnet synsets"
   ],
   "metadata": {
    "collapsed": false,
    "pycharm": {
     "name": "#%%\n"
    }
   }
  },
  {
   "cell_type": "markdown",
   "source": [
    "## 1.3 Drop head words that are not related to at least one trigger"
   ],
   "metadata": {
    "collapsed": false,
    "pycharm": {
     "name": "#%% md\n"
    }
   }
  },
  {
   "cell_type": "code",
   "execution_count": null,
   "outputs": [],
   "source": [
    "# some more code\n"
   ],
   "metadata": {
    "collapsed": false,
    "pycharm": {
     "name": "#%%\n"
    }
   }
  },
  {
   "cell_type": "markdown",
   "source": [
    "## 1.4 Extract head word attributes"
   ],
   "metadata": {
    "collapsed": false
   }
  },
  {
   "cell_type": "code",
   "execution_count": null,
   "outputs": [],
   "source": [
    "# some more code"
   ],
   "metadata": {
    "collapsed": false,
    "pycharm": {
     "name": "#%%\n"
    }
   }
  }
 ],
 "metadata": {
  "interpreter": {
   "hash": "529c65a099ec80885ec2eff43b42ddd85d3b5611c57bcaf738fb7ba7dbdb85b1"
  },
  "kernelspec": {
   "display_name": "Python 3 (ipykernel)",
   "language": "python",
   "name": "python3"
  },
  "language_info": {
   "codemirror_mode": {
    "name": "ipython",
    "version": 3
   },
   "file_extension": ".py",
   "mimetype": "text/x-python",
   "name": "python",
   "nbconvert_exporter": "python",
   "pygments_lexer": "ipython3",
   "version": "3.7.10"
  }
 },
 "nbformat": 4,
 "nbformat_minor": 5
}