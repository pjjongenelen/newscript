{
 "cells": [
  {
   "cell_type": "code",
   "execution_count": 1,
   "id": "42967b49",
   "metadata": {},
   "outputs": [],
   "source": [
    "import json\n",
    "import stanza\n",
    "\n",
    "from nltk.corpus import wordnet as wn\n",
    "from stanza.server import CoreNLPClient"
   ]
  },
  {
   "cell_type": "code",
   "execution_count": 2,
   "id": "2ce1833d",
   "metadata": {},
   "outputs": [
    {
     "name": "stderr",
     "output_type": "stream",
     "text": [
      "2021-07-07 08:26:01 WARNING: Directory C:\\Users\\s161158\\stanza_corenlp already exists. Please install CoreNLP to a new directory.\n"
     ]
    }
   ],
   "source": [
    "# run once to install CoreNLP\n",
    "stanza.install_corenlp()"
   ]
  },
  {
   "cell_type": "markdown",
   "id": "512a07fb",
   "metadata": {},
   "source": [
    "# 1 - Entity extraction\n",
    "\"Entities are represented as a triple containing: a head word <i>h</i>, a list <i>A</A> of attribute relations, and a list <i>T</i> of trigger relations\"\n",
    "\n",
    "## 1.1 Head word extraction\n",
    "The paper states that \"Head words are extracted from noun phrases.\"  \n",
    "Noun phrases are defined as: \"A word or group of words containing a noun and functioning in a sentence as subject, object, or prepositional object.\""
   ]
  },
  {
   "cell_type": "code",
   "execution_count": 3,
   "outputs": [],
   "source": [
    "def get_head_words(text):\n",
    "    # finds single head words from noun phrases in a given sentence\n",
    "\n",
    "    # extract noun phrases\n",
    "    with CoreNLPClient(properties='corenlp_server-2e15724b8064491b.props') as client:\n",
    "        pattern = 'NP'\n",
    "        matches = client.tregex(text=text, pattern=pattern)\n",
    "    noun_phrases = [sentence[match_id]['spanString'] for sentence in matches['sentences'] for match_id in sentence]\n",
    "\n",
    "    # find which noun phrases contain multiple nouns\n",
    "    doubles = []\n",
    "    for sentence in matches['sentences']:\n",
    "        match_ids = range(len(sentence))\n",
    "        for m in match_ids:\n",
    "            # for each noun phrase m\n",
    "            for n in match_ids:\n",
    "                # check if there is another noun phrase n that has both start >= and end <= m\n",
    "                if (sentence[str(n)]['characterOffsetBegin'] >= sentence[str(m)]['characterOffsetBegin']) \\\n",
    "                        & (sentence[str(n)]['characterOffsetEnd'] <= sentence[str(m)]['characterOffsetEnd']) \\\n",
    "                        & (m != n) \\\n",
    "                        & (m not in doubles):\n",
    "                    # if so, then m contains n, so we only want to keep n\n",
    "                    doubles.append(m)\n",
    "    for n in doubles:\n",
    "        del(noun_phrases[n])\n",
    "\n",
    "    # turn multi-word noun phrases into single head words\n",
    "    head_words = []\n",
    "    nlp = stanza.Pipeline(lang='en', processors='tokenize,pos,lemma,depparse')\n",
    "    for phrase in noun_phrases:\n",
    "        doc = nlp(phrase.lower())\n",
    "        for sent in doc.sentences:\n",
    "            for word in sent.words:\n",
    "                if word.deprel == \"root\":\n",
    "                    head_words.append(word.text)\n",
    "    return head_words"
   ],
   "metadata": {
    "collapsed": false,
    "pycharm": {
     "name": "#%%\n"
    }
   }
  },
  {
   "cell_type": "markdown",
   "source": [
    "## 1.2 Trigger extraction"
   ],
   "metadata": {
    "collapsed": false
   }
  },
  {
   "cell_type": "code",
   "execution_count": 4,
   "outputs": [],
   "source": [
    "def get_triggers():\n",
    "    triggers = []\n",
    "    # 1) get verbs\n",
    "    nlp = stanza.Pipeline(lang='en', processors='tokenize,mwt,pos')\n",
    "    doc = nlp('Barack Obama was born in Hawaii. Tim Jongenelen was born in Zegge, but currently lives in Eindhoven after having moved from Roermond.')\n",
    "    for sent in doc.sentences:\n",
    "        for word in sent.words:\n",
    "            if word.upos == 'VERB':\n",
    "                triggers.append(word.text)\n",
    "\n",
    "    # 2) get 'eventive' nouns from the two wordnet synsets\n",
    "    # from the definitions and examples we can clearly see that we need the synsets 'event.n.01' and 'act.n.02'\n",
    "    events = list(set([w for s in wn.synset('event.n.01').closure(lambda s:s.hyponyms()) for w in s.lemma_names()]))\n",
    "    acts = list(set([w for s in wn.synset('act.n.02').closure(lambda s:s.hyponyms()) for w in s.lemma_names()]))\n",
    "\n",
    "    # 3) maintain only triggers where a head word serves as its subject, object or preposition\n",
    "\n",
    "    return triggers"
   ],
   "metadata": {
    "collapsed": false,
    "pycharm": {
     "name": "#%%\n"
    }
   }
  },
  {
   "cell_type": "markdown",
   "source": [
    "## 1.3 Drop head words that are not related to at least one trigger"
   ],
   "metadata": {
    "collapsed": false,
    "pycharm": {
     "name": "#%% md\n"
    }
   }
  },
  {
   "cell_type": "code",
   "execution_count": 5,
   "outputs": [],
   "source": [
    "# some more code"
   ],
   "metadata": {
    "collapsed": false,
    "pycharm": {
     "name": "#%%\n"
    }
   }
  },
  {
   "cell_type": "markdown",
   "source": [
    "## 1.4 Extract head word attributes"
   ],
   "metadata": {
    "collapsed": false
   }
  },
  {
   "cell_type": "code",
   "execution_count": 6,
   "outputs": [],
   "source": [
    "# some more code"
   ],
   "metadata": {
    "collapsed": false,
    "pycharm": {
     "name": "#%%\n"
    }
   }
  },
  {
   "cell_type": "markdown",
   "source": [
    "## Testing section 1"
   ],
   "metadata": {
    "collapsed": false,
    "pycharm": {
     "name": "#%% md\n"
    }
   }
  },
  {
   "cell_type": "code",
   "execution_count": 7,
   "outputs": [
    {
     "data": {
      "text/plain": "'An Ethiopian foreign national was arrested in eMzinoni for dealing in drugs at his tuck shop on Friday, 6 October.'"
     },
     "execution_count": 7,
     "metadata": {},
     "output_type": "execute_result"
    }
   ],
   "source": [
    "# open a given article to have some text to experiment with\n",
    "with open('database_dump_drugs/0.json') as file:\n",
    "    article = json.load(file)[0]['article_content']\n",
    "sentence = article[:114]  # first sentence of the article\n",
    "sentence"
   ],
   "metadata": {
    "collapsed": false,
    "pycharm": {
     "name": "#%%\n"
    }
   }
  },
  {
   "cell_type": "code",
   "execution_count": 8,
   "outputs": [
    {
     "name": "stderr",
     "output_type": "stream",
     "text": [
      "2021-07-07 08:26:01 INFO: Starting server with command: java -Xmx5G -cp C:\\Users\\s161158\\stanza_corenlp\\* edu.stanford.nlp.pipeline.StanfordCoreNLPServer -port 9000 -timeout 60000 -threads 5 -maxCharLength 100000 -quiet False -serverProperties corenlp_server-2e15724b8064491b.props -preload -outputFormat serialized\n",
      "2021-07-07 08:27:11 INFO: Loading these models for language: en (English):\n",
      "========================\n",
      "| Processor | Package  |\n",
      "------------------------\n",
      "| tokenize  | combined |\n",
      "| pos       | combined |\n",
      "| lemma     | combined |\n",
      "| depparse  | combined |\n",
      "========================\n",
      "\n",
      "2021-07-07 08:27:11 INFO: Use device: cpu\n",
      "2021-07-07 08:27:11 INFO: Loading: tokenize\n",
      "2021-07-07 08:27:11 INFO: Loading: pos\n",
      "2021-07-07 08:27:12 INFO: Loading: lemma\n",
      "2021-07-07 08:27:12 INFO: Loading: depparse\n",
      "2021-07-07 08:27:13 INFO: Done loading processors!\n"
     ]
    },
    {
     "data": {
      "text/plain": "['national', 'emzinoni', 'drugs', 'shop', 'friday']"
     },
     "execution_count": 8,
     "metadata": {},
     "output_type": "execute_result"
    }
   ],
   "source": [
    "get_head_words(sentence)"
   ],
   "metadata": {
    "collapsed": false,
    "pycharm": {
     "name": "#%%\n"
    }
   }
  },
  {
   "cell_type": "code",
   "execution_count": 9,
   "outputs": [
    {
     "ename": "TypeError",
     "evalue": "get_triggers() takes 0 positional arguments but 1 was given",
     "output_type": "error",
     "traceback": [
      "\u001B[1;31m---------------------------------------------------------------------------\u001B[0m",
      "\u001B[1;31mTypeError\u001B[0m                                 Traceback (most recent call last)",
      "\u001B[1;32m~\\AppData\\Local\\Temp/ipykernel_8224/332883555.py\u001B[0m in \u001B[0;36m<module>\u001B[1;34m\u001B[0m\n\u001B[1;32m----> 1\u001B[1;33m \u001B[0mget_triggers\u001B[0m\u001B[1;33m(\u001B[0m\u001B[0msentence\u001B[0m\u001B[1;33m)\u001B[0m\u001B[1;33m\u001B[0m\u001B[1;33m\u001B[0m\u001B[0m\n\u001B[0m",
      "\u001B[1;31mTypeError\u001B[0m: get_triggers() takes 0 positional arguments but 1 was given"
     ]
    }
   ],
   "source": [
    "get_triggers(sentence)"
   ],
   "metadata": {
    "collapsed": false,
    "pycharm": {
     "name": "#%%\n"
    }
   }
  }
 ],
 "metadata": {
  "interpreter": {
   "hash": "529c65a099ec80885ec2eff43b42ddd85d3b5611c57bcaf738fb7ba7dbdb85b1"
  },
  "kernelspec": {
   "name": "python3",
   "language": "python",
   "display_name": "Python 3 (ipykernel)"
  },
  "language_info": {
   "codemirror_mode": {
    "name": "ipython",
    "version": 3
   },
   "file_extension": ".py",
   "mimetype": "text/x-python",
   "name": "python",
   "nbconvert_exporter": "python",
   "pygments_lexer": "ipython3",
   "version": "3.7.10"
  }
 },
 "nbformat": 4,
 "nbformat_minor": 5
}