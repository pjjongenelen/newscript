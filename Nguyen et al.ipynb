{
 "cells": [
  {
   "cell_type": "code",
   "execution_count": 1,
   "source": [
    "import json\r\n",
    "import os\r\n",
    "import signal\r\n",
    "import stanza\r\n",
    "import subprocess\r\n",
    "\r\n",
    "\r\n",
    "from nltk.corpus import wordnet as wn\r\n",
    "from stanza.server import CoreNLPClient"
   ],
   "outputs": [],
   "metadata": {}
  },
  {
   "cell_type": "code",
   "execution_count": 2,
   "source": [
    "# run once to install CoreNLP\r\n",
    "stanza.install_corenlp()"
   ],
   "outputs": [
    {
     "output_type": "stream",
     "name": "stderr",
     "text": [
      "2021-07-14 08:47:55 WARNING: Directory C:\\Users\\timjo\\stanza_corenlp already exists. Please install CoreNLP to a new directory.\n"
     ]
    }
   ],
   "metadata": {}
  },
  {
   "cell_type": "markdown",
   "source": [
    "# 1 - Entity extraction\n",
    "\"Entities are represented as a triple containing: a head word <i>h</i>, a list <i>A</A> of attribute relations, and a list <i>T</i> of trigger relations\"\n",
    "\n",
    "## 1.1 Head word extraction\n",
    "The paper states that \"Head words are extracted from noun phrases.\"  \n",
    "Noun phrases are defined as: \"A word or group of words containing a noun and functioning in a sentence as subject, object, or prepositional object.\""
   ],
   "metadata": {}
  },
  {
   "cell_type": "code",
   "execution_count": 2,
   "source": [
    "def get_head_words(text):\r\n",
    "    # finds single head words from noun phrases in a given sentence\r\n",
    "\r\n",
    "    # extract noun phrases\r\n",
    "    with CoreNLPClient(properties='corenlp_server-2e15724b8064491b.props') as client:\r\n",
    "        pattern = 'NP'\r\n",
    "        matches = client.tregex(text=text, pattern=pattern)\r\n",
    "    noun_phrases = [sentence[match_id]['spanString'] for sentence in matches['sentences'] for match_id in sentence]\r\n",
    "\r\n",
    "    # find which noun phrases contain multiple nouns\r\n",
    "    doubles = []\r\n",
    "    for sentence in matches['sentences']:\r\n",
    "        match_ids = range(len(sentence))\r\n",
    "        for m in match_ids:\r\n",
    "            # for each noun phrase m\r\n",
    "            for n in match_ids:\r\n",
    "                # check if there is another noun phrase n that has both start >= and end <= m\r\n",
    "                if (sentence[str(n)]['characterOffsetBegin'] >= sentence[str(m)]['characterOffsetBegin']) \\\r\n",
    "                        & (sentence[str(n)]['characterOffsetEnd'] <= sentence[str(m)]['characterOffsetEnd']) \\\r\n",
    "                        & (m != n) \\\r\n",
    "                        & (m not in doubles):\r\n",
    "                    # if so, then m contains n, so we only want to keep n\r\n",
    "                    doubles.append(m)\r\n",
    "    for n in doubles:\r\n",
    "        del(noun_phrases[n])\r\n",
    "\r\n",
    "    # turn multi-word noun phrases into single head words\r\n",
    "    head_words = []\r\n",
    "    nlp = stanza.Pipeline(lang='en', processors='tokenize,pos,lemma,depparse')\r\n",
    "    for phrase in noun_phrases:\r\n",
    "        doc = nlp(phrase.lower())\r\n",
    "        for sent in doc.sentences:\r\n",
    "            for word in sent.words:\r\n",
    "                if word.deprel == \"root\":\r\n",
    "                    head_words.append(word.text)\r\n",
    "    return head_words"
   ],
   "outputs": [],
   "metadata": {
    "collapsed": false,
    "pycharm": {
     "name": "#%%\n"
    }
   }
  },
  {
   "cell_type": "markdown",
   "source": [
    "## 1.2 Trigger extraction"
   ],
   "metadata": {
    "collapsed": false
   }
  },
  {
   "cell_type": "code",
   "execution_count": 4,
   "source": [
    "def get_triggers():\r\n",
    "    triggers = []\r\n",
    "    # 1) get verbs\r\n",
    "    nlp = stanza.Pipeline(lang='en', processors='tokenize,mwt,pos')\r\n",
    "    doc = nlp('Barack Obama was born in Hawaii. Tim Jongenelen was born in Zegge, but currently lives in Eindhoven after having moved from Roermond.')\r\n",
    "    for sent in doc.sentences:\r\n",
    "        for word in sent.words:\r\n",
    "            if word.upos == 'VERB':\r\n",
    "                triggers.append(word.text)\r\n",
    "\r\n",
    "    # 2) get 'eventive' nouns from the two wordnet synsets\r\n",
    "    # from the definitions and examples we can clearly see that we need the synsets 'event.n.01' and 'act.n.02'\r\n",
    "    events = list(set([w for s in wn.synset('event.n.01').closure(lambda s:s.hyponyms()) for w in s.lemma_names()]))\r\n",
    "    acts = list(set([w for s in wn.synset('act.n.02').closure(lambda s:s.hyponyms()) for w in s.lemma_names()]))\r\n",
    "\r\n",
    "    # 3) maintain only triggers where a head word serves as its subject, object or preposition\r\n",
    "\r\n",
    "    return triggers"
   ],
   "outputs": [],
   "metadata": {
    "collapsed": false,
    "pycharm": {
     "name": "#%%\n"
    }
   }
  },
  {
   "cell_type": "markdown",
   "source": [
    "## 1.3 Drop head words that are not related to at least one trigger"
   ],
   "metadata": {
    "collapsed": false,
    "pycharm": {
     "name": "#%% md\n"
    }
   }
  },
  {
   "cell_type": "code",
   "execution_count": 5,
   "source": [
    "# some more code"
   ],
   "outputs": [],
   "metadata": {
    "collapsed": false,
    "pycharm": {
     "name": "#%%\n"
    }
   }
  },
  {
   "cell_type": "markdown",
   "source": [
    "## 1.4 Extract head word attributes"
   ],
   "metadata": {
    "collapsed": false
   }
  },
  {
   "cell_type": "code",
   "execution_count": 6,
   "source": [
    "# some more code"
   ],
   "outputs": [],
   "metadata": {
    "collapsed": false,
    "pycharm": {
     "name": "#%%\n"
    }
   }
  },
  {
   "cell_type": "markdown",
   "source": [
    "## Testing section 1"
   ],
   "metadata": {
    "collapsed": false,
    "pycharm": {
     "name": "#%% md\n"
    }
   }
  },
  {
   "cell_type": "code",
   "execution_count": 3,
   "source": [
    "# open a given article to have some text to experiment with\r\n",
    "with open('database_dump_drugs/0.json') as file:\r\n",
    "    article = json.load(file)[0]['article_content']\r\n",
    "sentence = article[:114]  # first sentence of the article\r\n",
    "sentence"
   ],
   "outputs": [
    {
     "output_type": "execute_result",
     "data": {
      "text/plain": [
       "'An Ethiopian foreign national was arrested in eMzinoni for dealing in drugs at his tuck shop on Friday, 6 October.'"
      ]
     },
     "metadata": {},
     "execution_count": 3
    }
   ],
   "metadata": {
    "collapsed": false,
    "pycharm": {
     "name": "#%%\n"
    }
   }
  },
  {
   "cell_type": "code",
   "execution_count": 12,
   "source": [
    "# clear the 9000 port to be used by the CoreNLPClient\r\n",
    "command = \"netstat -ano | findstr 9000\"\r\n",
    "c = subprocess.Popen(command, shell=True, stdout=subprocess.PIPE, stderr = subprocess.PIPE)\r\n",
    "stdout, stderr = c.communicate()\r\n",
    "if len(stdout) > 0:    \r\n",
    "    # process is running on port 9000, terminate it\r\n",
    "    print(stdout)\r\n",
    "    pid = input(\"Enter the process ID of the process that should be terminated, or an alphanumeric character in case it is unnecessary.\")\r\n",
    "    if not pid.isalpha():\r\n",
    "        os.kill(pid, signal.SIGTERM)\r\n",
    "\r\n",
    "get_head_words(sentence)\r\n"
   ],
   "outputs": [
    {
     "output_type": "stream",
     "name": "stdout",
     "text": [
      "b'  TCP    [::1]:57698            [::1]:9000             TIME_WAIT       0\\r\\n'\n"
     ]
    },
    {
     "output_type": "stream",
     "name": "stderr",
     "text": [
      "2021-07-14 12:11:24 INFO: Starting server with command: java -Xmx5G -cp C:\\Users\\timjo\\stanza_corenlp\\* edu.stanford.nlp.pipeline.StanfordCoreNLPServer -port 9000 -timeout 60000 -threads 5 -maxCharLength 100000 -quiet False -serverProperties corenlp_server-2e15724b8064491b.props -preload -outputFormat serialized\n",
      "2021-07-14 12:11:42 INFO: Loading these models for language: en (English):\n",
      "========================\n",
      "| Processor | Package  |\n",
      "------------------------\n",
      "| tokenize  | combined |\n",
      "| pos       | combined |\n",
      "| lemma     | combined |\n",
      "| depparse  | combined |\n",
      "========================\n",
      "\n",
      "2021-07-14 12:11:42 INFO: Use device: cpu\n",
      "2021-07-14 12:11:42 INFO: Loading: tokenize\n",
      "2021-07-14 12:11:42 INFO: Loading: pos\n",
      "2021-07-14 12:11:42 INFO: Loading: lemma\n",
      "2021-07-14 12:11:42 INFO: Loading: depparse\n",
      "2021-07-14 12:11:42 INFO: Done loading processors!\n"
     ]
    },
    {
     "output_type": "execute_result",
     "data": {
      "text/plain": [
       "['national', 'emzinoni', 'drugs', 'shop', 'friday']"
      ]
     },
     "metadata": {},
     "execution_count": 12
    }
   ],
   "metadata": {
    "collapsed": false,
    "pycharm": {
     "name": "#%%\n"
    }
   }
  }
 ],
 "metadata": {
  "interpreter": {
   "hash": "529c65a099ec80885ec2eff43b42ddd85d3b5611c57bcaf738fb7ba7dbdb85b1"
  },
  "kernelspec": {
   "display_name": "Python 3.7.10 64-bit ('thesis': conda)",
   "name": "python3"
  },
  "language_info": {
   "codemirror_mode": {
    "name": "ipython",
    "version": 3
   },
   "file_extension": ".py",
   "mimetype": "text/x-python",
   "name": "python",
   "nbconvert_exporter": "python",
   "pygments_lexer": "ipython3",
   "version": "3.7.10"
  }
 },
 "nbformat": 4,
 "nbformat_minor": 5
}