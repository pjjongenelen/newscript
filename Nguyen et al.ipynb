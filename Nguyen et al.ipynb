{
 "cells": [
  {
   "cell_type": "code",
   "execution_count": 1,
   "id": "42967b49",
   "metadata": {},
   "outputs": [],
   "source": [
    "import json\n",
    "import stanza"
   ]
  },
  {
   "cell_type": "code",
   "execution_count": 6,
   "id": "2ce1833d",
   "metadata": {},
   "outputs": [],
   "source": [
    "# only run if CoreNLP is not installed yet\n",
    "# stanza.install_corenlp()"
   ]
  },
  {
   "cell_type": "markdown",
   "id": "512a07fb",
   "metadata": {},
   "source": [
    "# 3 - Entity Representation\n",
    "\"Entities are represented as a triple containing: a head word <i>h</i>, a list <i>A</A> of attribute relations and a list <i>T</i> of trigger relations\""
   ]
  },
  {
   "cell_type": "code",
   "execution_count": 2,
   "id": "f145ea3e",
   "metadata": {},
   "outputs": [],
   "source": [
    "def create_pipeline():\n",
    "    stanza.download('en', processors='tokenize,pos,ner,lemma,depparse', logging_level='WARN')\n",
    "    return stanza.Pipeline('en', processors='tokenize,pos,ner,lemma,depparse', logging_level='WARN')\n",
    "\n",
    "def sample_article():\n",
    "    file = json.load(open('database_dump_drugs/0.json'))\n",
    "    return file[0]['article_content']"
   ]
  },
  {
   "cell_type": "code",
   "execution_count": 4,
   "id": "f37ed3d1",
   "metadata": {},
   "outputs": [],
   "source": [
    "# pipeline = create_pipeline()\n",
    "article = sample_article()"
   ]
  },
  {
   "cell_type": "markdown",
   "id": "0e15f901",
   "metadata": {},
   "source": [
    "## 3.1 Head word extraction\n",
    "The paper states that \"Head words are extracted from noun phrases.\"  \n",
    "Noun phrases are defined as: \"A word or group of words containing a noun and functioning in a sentence as subject, object, or prepositional object.\"  \n",
    "The authors only use single words as head words. So in the case of the first sentence of the first article, the head word of 'An Ethiopian foreign national' is 'national'.\n",
    "  \n",
    "To do this in Python, we [FILL IN]"
   ]
  },
  {
   "cell_type": "code",
   "execution_count": 11,
   "id": "91de1483",
   "metadata": {},
   "outputs": [
    {
     "name": "stdout",
     "output_type": "stream",
     "text": [
      "Albert Einstein was a German-born theoretical physicist. He developed the theory of relativity.\n"
     ]
    },
    {
     "ename": "PermanentlyFailedException",
     "evalue": "Timed out waiting for service to come alive.",
     "output_type": "error",
     "traceback": [
      "\u001B[1;31m---------------------------------------------------------------------------\u001B[0m",
      "\u001B[1;31mPermanentlyFailedException\u001B[0m                Traceback (most recent call last)",
      "\u001B[1;32m~\\AppData\\Local\\Temp/ipykernel_8772/7042993.py\u001B[0m in \u001B[0;36m<module>\u001B[1;34m\u001B[0m\n\u001B[0;32m      4\u001B[0m     \u001B[1;31m# turn the following into function:\u001B[0m\u001B[1;33m\u001B[0m\u001B[1;33m\u001B[0m\u001B[1;33m\u001B[0m\u001B[0m\n\u001B[0;32m      5\u001B[0m     \u001B[0mpattern\u001B[0m \u001B[1;33m=\u001B[0m \u001B[1;34m'NP'\u001B[0m\u001B[1;33m\u001B[0m\u001B[1;33m\u001B[0m\u001B[0m\n\u001B[1;32m----> 6\u001B[1;33m     \u001B[0mmatches\u001B[0m \u001B[1;33m=\u001B[0m \u001B[0mclient\u001B[0m\u001B[1;33m.\u001B[0m\u001B[0mtregex\u001B[0m\u001B[1;33m(\u001B[0m\u001B[0mtext\u001B[0m\u001B[1;33m=\u001B[0m\u001B[0menglishText\u001B[0m\u001B[1;33m,\u001B[0m \u001B[0mpattern\u001B[0m\u001B[1;33m=\u001B[0m\u001B[0mpattern\u001B[0m\u001B[1;33m,\u001B[0m\u001B[0mannotators\u001B[0m\u001B[1;33m=\u001B[0m\u001B[1;34m'tokenize, ssplit, pos, lemma, parse'\u001B[0m\u001B[1;33m)\u001B[0m\u001B[1;33m\u001B[0m\u001B[1;33m\u001B[0m\u001B[0m\n\u001B[0m\u001B[0;32m      7\u001B[0m \u001B[0mprint\u001B[0m\u001B[1;33m(\u001B[0m\u001B[0mmatches\u001B[0m\u001B[1;33m)\u001B[0m\u001B[1;33m\u001B[0m\u001B[1;33m\u001B[0m\u001B[0m\n",
      "\u001B[1;32mc:\\users\\s161158\\anaconda3\\envs\\thesis\\lib\\site-packages\\stanza\\server\\client.py\u001B[0m in \u001B[0;36mtregex\u001B[1;34m(self, text, pattern, filter, annotators, properties)\u001B[0m\n\u001B[0;32m    566\u001B[0m \u001B[1;33m\u001B[0m\u001B[0m\n\u001B[0;32m    567\u001B[0m     \u001B[1;32mdef\u001B[0m \u001B[0mtregex\u001B[0m\u001B[1;33m(\u001B[0m\u001B[0mself\u001B[0m\u001B[1;33m,\u001B[0m \u001B[0mtext\u001B[0m\u001B[1;33m,\u001B[0m \u001B[0mpattern\u001B[0m\u001B[1;33m,\u001B[0m \u001B[0mfilter\u001B[0m\u001B[1;33m=\u001B[0m\u001B[1;32mFalse\u001B[0m\u001B[1;33m,\u001B[0m \u001B[0mannotators\u001B[0m\u001B[1;33m=\u001B[0m\u001B[1;32mNone\u001B[0m\u001B[1;33m,\u001B[0m \u001B[0mproperties\u001B[0m\u001B[1;33m=\u001B[0m\u001B[1;32mNone\u001B[0m\u001B[1;33m)\u001B[0m\u001B[1;33m:\u001B[0m\u001B[1;33m\u001B[0m\u001B[1;33m\u001B[0m\u001B[0m\n\u001B[1;32m--> 568\u001B[1;33m         \u001B[1;32mreturn\u001B[0m \u001B[0mself\u001B[0m\u001B[1;33m.\u001B[0m\u001B[0m__regex\u001B[0m\u001B[1;33m(\u001B[0m\u001B[1;34m'/tregex'\u001B[0m\u001B[1;33m,\u001B[0m \u001B[0mtext\u001B[0m\u001B[1;33m,\u001B[0m \u001B[0mpattern\u001B[0m\u001B[1;33m,\u001B[0m \u001B[0mfilter\u001B[0m\u001B[1;33m,\u001B[0m \u001B[0mannotators\u001B[0m\u001B[1;33m,\u001B[0m \u001B[0mproperties\u001B[0m\u001B[1;33m)\u001B[0m\u001B[1;33m\u001B[0m\u001B[1;33m\u001B[0m\u001B[0m\n\u001B[0m\u001B[0;32m    569\u001B[0m \u001B[1;33m\u001B[0m\u001B[0m\n\u001B[0;32m    570\u001B[0m     \u001B[1;32mdef\u001B[0m \u001B[0m__regex\u001B[0m\u001B[1;33m(\u001B[0m\u001B[0mself\u001B[0m\u001B[1;33m,\u001B[0m \u001B[0mpath\u001B[0m\u001B[1;33m,\u001B[0m \u001B[0mtext\u001B[0m\u001B[1;33m,\u001B[0m \u001B[0mpattern\u001B[0m\u001B[1;33m,\u001B[0m \u001B[0mfilter\u001B[0m\u001B[1;33m,\u001B[0m \u001B[0mannotators\u001B[0m\u001B[1;33m=\u001B[0m\u001B[1;32mNone\u001B[0m\u001B[1;33m,\u001B[0m \u001B[0mproperties\u001B[0m\u001B[1;33m=\u001B[0m\u001B[1;32mNone\u001B[0m\u001B[1;33m)\u001B[0m\u001B[1;33m:\u001B[0m\u001B[1;33m\u001B[0m\u001B[1;33m\u001B[0m\u001B[0m\n",
      "\u001B[1;32mc:\\users\\s161158\\anaconda3\\envs\\thesis\\lib\\site-packages\\stanza\\server\\client.py\u001B[0m in \u001B[0;36m__regex\u001B[1;34m(self, path, text, pattern, filter, annotators, properties)\u001B[0m\n\u001B[0;32m    578\u001B[0m         \u001B[1;33m:\u001B[0m\u001B[1;32mreturn\u001B[0m\u001B[1;33m:\u001B[0m \u001B[0mrequest\u001B[0m \u001B[0mresult\u001B[0m\u001B[1;33m\u001B[0m\u001B[1;33m\u001B[0m\u001B[0m\n\u001B[0;32m    579\u001B[0m         \"\"\"\n\u001B[1;32m--> 580\u001B[1;33m         \u001B[0mself\u001B[0m\u001B[1;33m.\u001B[0m\u001B[0mensure_alive\u001B[0m\u001B[1;33m(\u001B[0m\u001B[1;33m)\u001B[0m\u001B[1;33m\u001B[0m\u001B[1;33m\u001B[0m\u001B[0m\n\u001B[0m\u001B[0;32m    581\u001B[0m         \u001B[1;32mif\u001B[0m \u001B[0mproperties\u001B[0m \u001B[1;32mis\u001B[0m \u001B[1;32mNone\u001B[0m\u001B[1;33m:\u001B[0m\u001B[1;33m\u001B[0m\u001B[1;33m\u001B[0m\u001B[0m\n\u001B[0;32m    582\u001B[0m             \u001B[0mproperties\u001B[0m \u001B[1;33m=\u001B[0m \u001B[1;33m{\u001B[0m\u001B[1;33m}\u001B[0m\u001B[1;33m\u001B[0m\u001B[1;33m\u001B[0m\u001B[0m\n",
      "\u001B[1;32mc:\\users\\s161158\\anaconda3\\envs\\thesis\\lib\\site-packages\\stanza\\server\\client.py\u001B[0m in \u001B[0;36mensure_alive\u001B[1;34m(self)\u001B[0m\n\u001B[0;32m    216\u001B[0m                 \u001B[0mtime\u001B[0m\u001B[1;33m.\u001B[0m\u001B[0msleep\u001B[0m\u001B[1;33m(\u001B[0m\u001B[1;36m1\u001B[0m\u001B[1;33m)\u001B[0m\u001B[1;33m\u001B[0m\u001B[1;33m\u001B[0m\u001B[0m\n\u001B[0;32m    217\u001B[0m             \u001B[1;32melse\u001B[0m\u001B[1;33m:\u001B[0m\u001B[1;33m\u001B[0m\u001B[1;33m\u001B[0m\u001B[0m\n\u001B[1;32m--> 218\u001B[1;33m                 \u001B[1;32mraise\u001B[0m \u001B[0mPermanentlyFailedException\u001B[0m\u001B[1;33m(\u001B[0m\u001B[1;34m\"Timed out waiting for service to come alive.\"\u001B[0m\u001B[1;33m)\u001B[0m\u001B[1;33m\u001B[0m\u001B[1;33m\u001B[0m\u001B[0m\n\u001B[0m\u001B[0;32m    219\u001B[0m \u001B[1;33m\u001B[0m\u001B[0m\n\u001B[0;32m    220\u001B[0m         \u001B[1;31m# At this point we are guaranteed that the service is alive.\u001B[0m\u001B[1;33m\u001B[0m\u001B[1;33m\u001B[0m\u001B[1;33m\u001B[0m\u001B[0m\n",
      "\u001B[1;31mPermanentlyFailedException\u001B[0m: Timed out waiting for service to come alive."
     ]
    }
   ],
   "source": [
    "def noun_phrases(_client, _text, annotators=None):\n",
    "    # simple CoreNLP tregex appication to extract noun phrases from a given text\n",
    "    pattern = 'NP'\n",
    "    matches = _client.tregex(text=_text,pattern=pattern)"
   ]
  }
 ],
 "metadata": {
  "interpreter": {
   "hash": "529c65a099ec80885ec2eff43b42ddd85d3b5611c57bcaf738fb7ba7dbdb85b1"
  },
  "kernelspec": {
   "display_name": "Python 3 (ipykernel)",
   "language": "python",
   "name": "python3"
  },
  "language_info": {
   "codemirror_mode": {
    "name": "ipython",
    "version": 3
   },
   "file_extension": ".py",
   "mimetype": "text/x-python",
   "name": "python",
   "nbconvert_exporter": "python",
   "pygments_lexer": "ipython3",
   "version": "3.7.10"
  }
 },
 "nbformat": 4,
 "nbformat_minor": 5
}