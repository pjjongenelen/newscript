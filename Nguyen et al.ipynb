{
 "cells": [
  {
   "cell_type": "code",
   "execution_count": 1,
   "source": [
    "import json\r\n",
    "import os\r\n",
    "import signal\r\n",
    "import stanza\r\n",
    "import subprocess\r\n",
    "import time\r\n",
    "\r\n",
    "from nltk.corpus import wordnet as wn\r\n",
    "from stanza.server import CoreNLPClient"
   ],
   "outputs": [],
   "metadata": {}
  },
  {
   "cell_type": "code",
   "execution_count": 2,
   "source": [
    "# run once to install CoreNLP\r\n",
    "stanza.install_corenlp()"
   ],
   "outputs": [
    {
     "output_type": "stream",
     "name": "stderr",
     "text": [
      "2021-07-14 15:50:47 WARNING: Directory C:\\Users\\timjo\\stanza_corenlp already exists. Please install CoreNLP to a new directory.\n"
     ]
    }
   ],
   "metadata": {}
  },
  {
   "cell_type": "markdown",
   "source": [
    "# 1 - Entity extraction\n",
    "\"Entities are represented as a triple containing: a head word <i>h</i>, a list <i>A</A> of attribute relations, and a list <i>T</i> of trigger relations\"\n",
    "\n",
    "## 1.1 Head word extraction\n",
    "The paper states that \"Head words are extracted from noun phrases.\"  \n",
    "Noun phrases are defined as: \"A word or group of words containing a noun and functioning in a sentence as subject, object, or prepositional object.\""
   ],
   "metadata": {}
  },
  {
   "cell_type": "code",
   "execution_count": 3,
   "source": [
    "def clear_port_9000():\r\n",
    "    # clear the 9000 port to be used by the CoreNLPClient\r\n",
    "    command = \"netstat -ano | findstr 9000\"\r\n",
    "    c = subprocess.Popen(command, shell=True, stdout=subprocess.PIPE, stderr = subprocess.PIPE)\r\n",
    "    stdout, stderr = c.communicate()\r\n",
    "    if len(stdout) > 0:    \r\n",
    "        # process is running on port 9000, terminate it\r\n",
    "        print(\"Netstat response:\")\r\n",
    "        print(stdout)\r\n",
    "        print(\"-----------------------------------------------------\")\r\n",
    "        pid = input(\"Enter the process ID of the process that should be terminated, or an alphanumeric character in case it is unnecessary.\")\r\n",
    "        if not pid.isalpha():\r\n",
    "            os.kill(int(pid), signal.SIGTERM)\r\n",
    "            time.sleep(5)  # wait for the process to close\r\n",
    "\r\n",
    "def get_head_words(text):\r\n",
    "    # finds single head words from noun phrases in a given sentence\r\n",
    "\r\n",
    "    # extract noun phrases\r\n",
    "    clear_port_9000()\r\n",
    "    with CoreNLPClient(properties='corenlp_server-2e15724b8064491b.props', memory='8G', be_quiet=True) as client:\r\n",
    "        matches = client.tregex(text=text, pattern='NP')\r\n",
    "    head_words = {text: (begin, end) for text, begin, end in\r\n",
    "                zip([sentence[match_id]['spanString'] for sentence in matches['sentences'] for match_id in sentence],\r\n",
    "                    [sentence[match_id]['characterOffsetBegin'] for sentence in matches['sentences'] for match_id in sentence],\r\n",
    "                    [sentence[match_id]['characterOffsetEnd'] for sentence in matches['sentences'] for match_id in sentence])}\r\n",
    "\r\n",
    "    # find head words that contain other head words\r\n",
    "    multiples = []\r\n",
    "    for t1, i1 in head_words.items():\r\n",
    "        for t2, i2 in head_words.items():\r\n",
    "            if (t1 != t2) and (i1 != i2):\r\n",
    "                if ((i1[0] >= i2[0]) & (i1[1] < i2[1])) or ((i1[0] > i2[0]) & (i1[1] <= i2[1])):\r\n",
    "                    multiples.append(i2)\r\n",
    "    multiples = set(multiples)\r\n",
    "    # remove these 'multiples'\r\n",
    "    head_words = {key: val for key, val in head_words.items() if val not in multiples}\r\n",
    "\r\n",
    "    # turn multi-word noun phrases into single head words (the authors clearly state the only use single head words)\r\n",
    "    nlp = stanza.Pipeline(lang='en', processors='tokenize,pos,lemma,depparse', verbose=False)\r\n",
    "    for nphrase in head_words.keys():\r\n",
    "        for sent in nlp(nphrase.lower()).sentences:\r\n",
    "            for word in sent.words:\r\n",
    "                if word.deprel == \"root\":\r\n",
    "                    head_words[word.text] = head_words.pop(nphrase)\r\n",
    "\r\n",
    "    return head_words"
   ],
   "outputs": [],
   "metadata": {
    "collapsed": false,
    "pycharm": {
     "name": "#%%\n"
    }
   }
  },
  {
   "cell_type": "markdown",
   "source": [
    "## 1.2 Trigger extraction"
   ],
   "metadata": {
    "collapsed": false
   }
  },
  {
   "cell_type": "code",
   "execution_count": 4,
   "source": [
    "def get_triggers():\r\n",
    "    triggers = []\r\n",
    "    # 1) get verbs\r\n",
    "    nlp = stanza.Pipeline(lang='en', processors='tokenize,mwt,pos', verbose=False)\r\n",
    "    doc = nlp('Barack Obama was born in Hawaii. Tim Jongenelen was born in Zegge, but currently lives in Eindhoven after having moved from Roermond.')\r\n",
    "    for sent in doc.sentences:\r\n",
    "        for word in sent.words:\r\n",
    "            if word.upos == 'VERB':\r\n",
    "                triggers.append(word.text)\r\n",
    "\r\n",
    "    # 2) get 'eventive' nouns from the two wordnet synsets\r\n",
    "    # from the definitions and examples we can clearly see that we need the synsets 'event.n.01' and 'act.n.02'\r\n",
    "    events = list(set([w for s in wn.synset('event.n.01').closure(lambda s:s.hyponyms()) for w in s.lemma_names()]))\r\n",
    "    acts = list(set([w for s in wn.synset('act.n.02').closure(lambda s:s.hyponyms()) for w in s.lemma_names()]))\r\n",
    "\r\n",
    "    # 3) maintain only triggers where a head word serves as its subject, object or preposition\r\n",
    "\r\n",
    "    return triggers"
   ],
   "outputs": [],
   "metadata": {
    "collapsed": false,
    "pycharm": {
     "name": "#%%\n"
    }
   }
  },
  {
   "cell_type": "markdown",
   "source": [
    "## 1.3 Drop head words that are not related to at least one trigger"
   ],
   "metadata": {
    "collapsed": false,
    "pycharm": {
     "name": "#%% md\n"
    }
   }
  },
  {
   "cell_type": "code",
   "execution_count": 5,
   "source": [
    "# some more code"
   ],
   "outputs": [],
   "metadata": {
    "collapsed": false,
    "pycharm": {
     "name": "#%%\n"
    }
   }
  },
  {
   "cell_type": "markdown",
   "source": [
    "## 1.4 Extract head word attributes"
   ],
   "metadata": {
    "collapsed": false
   }
  },
  {
   "cell_type": "code",
   "execution_count": 6,
   "source": [
    "# some more code"
   ],
   "outputs": [],
   "metadata": {
    "collapsed": false,
    "pycharm": {
     "name": "#%%\n"
    }
   }
  },
  {
   "cell_type": "markdown",
   "source": [
    "## Testing section 1"
   ],
   "metadata": {
    "collapsed": false,
    "pycharm": {
     "name": "#%% md\n"
    }
   }
  },
  {
   "cell_type": "code",
   "execution_count": 7,
   "source": [
    "# open a given article to have some text to experiment with\r\n",
    "with open('database_dump_drugs/0.json') as file:\r\n",
    "    article = json.load(file)[0]['article_content']\r\n",
    "sentence = article[:114]  # first sentence of the article\r\n",
    "sentence"
   ],
   "outputs": [
    {
     "output_type": "execute_result",
     "data": {
      "text/plain": [
       "'An Ethiopian foreign national was arrested in eMzinoni for dealing in drugs at his tuck shop on Friday, 6 October.'"
      ]
     },
     "metadata": {},
     "execution_count": 7
    }
   ],
   "metadata": {
    "collapsed": false,
    "pycharm": {
     "name": "#%%\n"
    }
   }
  },
  {
   "cell_type": "code",
   "execution_count": 8,
   "source": [
    "get_head_words(sentence)"
   ],
   "outputs": [
    {
     "output_type": "stream",
     "name": "stdout",
     "text": [
      "Netstat response:\n",
      "b'  TCP    127.0.0.1:9000         0.0.0.0:0              LISTENING       18288\\r\\n  TCP    127.0.0.1:59353        127.0.0.1:9000         TIME_WAIT       0\\r\\n'\n",
      "-----------------------------------------------------\n"
     ]
    },
    {
     "output_type": "stream",
     "name": "stderr",
     "text": [
      "2021-07-14 15:50:58 INFO: Starting server with command: java -Xmx8G -cp C:\\Users\\timjo\\stanza_corenlp\\* edu.stanford.nlp.pipeline.StanfordCoreNLPServer -port 9000 -timeout 60000 -threads 5 -maxCharLength 100000 -quiet True -serverProperties corenlp_server-2e15724b8064491b.props -preload -outputFormat serialized\n"
     ]
    },
    {
     "output_type": "execute_result",
     "data": {
      "text/plain": [
       "{'eMzinoni': (46, 54),\n",
       " 'friday': (96, 105),\n",
       " 'national': (0, 29),\n",
       " 'drugs': (70, 75),\n",
       " 'shop': (79, 92)}"
      ]
     },
     "metadata": {},
     "execution_count": 8
    }
   ],
   "metadata": {
    "collapsed": false,
    "pycharm": {
     "name": "#%%\n"
    }
   }
  }
 ],
 "metadata": {
  "interpreter": {
   "hash": "529c65a099ec80885ec2eff43b42ddd85d3b5611c57bcaf738fb7ba7dbdb85b1"
  },
  "kernelspec": {
   "display_name": "Python 3.7.10 64-bit ('thesis': conda)",
   "name": "python3"
  },
  "language_info": {
   "codemirror_mode": {
    "name": "ipython",
    "version": 3
   },
   "file_extension": ".py",
   "mimetype": "text/x-python",
   "name": "python",
   "nbconvert_exporter": "python",
   "pygments_lexer": "ipython3",
   "version": "3.7.10"
  }
 },
 "nbformat": 4,
 "nbformat_minor": 5
}