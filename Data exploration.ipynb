{
 "cells": [
  {
   "cell_type": "code",
   "execution_count": 5,
   "metadata": {},
   "outputs": [],
   "source": [
    "# always run\r\n",
    "\r\n",
    "import json, stanza"
   ]
  },
  {
   "cell_type": "markdown",
   "metadata": {},
   "source": [
    "# Data Wrangling"
   ]
  },
  {
   "cell_type": "code",
   "execution_count": 25,
   "metadata": {
    "scrolled": true
   },
   "outputs": [
    {
     "name": "stdout",
     "output_type": "stream",
     "text": [
      "At json file 0 of 1571\n",
      "At json file 100 of 1571\n",
      "At json file 200 of 1571\n",
      "At json file 300 of 1571\n",
      "At json file 400 of 1571\n",
      "At json file 500 of 1571\n",
      "At json file 600 of 1571\n",
      "At json file 700 of 1571\n",
      "At json file 800 of 1571\n",
      "At json file 900 of 1571\n",
      "At json file 1000 of 1571\n",
      "At json file 1100 of 1571\n",
      "At json file 1200 of 1571\n",
      "At json file 1300 of 1571\n",
      "At json file 1400 of 1571\n",
      "At json file 1500 of 1571\n",
      "article_content == article_contentRaw for all articles in the dataset\n"
     ]
    }
   ],
   "source": [
    "# proof that article_content == article_contentRaw\r\n",
    "\r\n",
    "for x in range(1572):\r\n",
    "    file = open(f'database_dump_drugs/{x}.json',)\r\n",
    "    articles = json.load(file)\r\n",
    "    if x % 100 == 0:\r\n",
    "        print(f'At json file {x} of 1571')\r\n",
    "    for y in range(len(articles)):\r\n",
    "        if articles[y]['article_content'] != articles[y]['article_contentRaw']:\r\n",
    "            print(f'Hit at json file {x} in article {y}')"
   ]
  },
  {
   "cell_type": "markdown",
   "metadata": {},
   "source": [
    "# Stanza Experimentation"
   ]
  },
  {
   "cell_type": "code",
   "execution_count": 6,
   "metadata": {},
   "outputs": [],
   "source": [
    "def create_pipeline():\r\n",
    "    # download the processors\r\n",
    "    stanza.download('en', processors='tokenize,ner', logging_level='WARN')\r\n",
    "    # loac the processors into a pipeline\r\n",
    "    nlp = stanza.Pipeline('en', processors='tokenize,ner', logging_level='WARN')\r\n",
    "    \r\n",
    "    return nlp"
   ]
  },
  {
   "cell_type": "code",
   "execution_count": 7,
   "metadata": {},
   "outputs": [
    {
     "data": {
      "text/plain": [
       "'An Ethiopian foreign national was arrested in eMzinoni for dealing in drugs at his tuck shop on Friday, 6 October.\\nThis came after the police received a tip off from members of the Community Policing Forum (CPF) that the suspect was involved in the dealing of drugs.\\nOfficers arrested the 27-year-old man.\\nHe will appear in the Bethal Magistrate’s Court.\\nPolice commended the CPF for their dedication and of fighting crime.\\nFor free daily local news in the South, visit our sister newspapers Highvelder, Standerton Advertiser\\nFor more news and interesting articles, like us on Facebook, and follow us on Twitter and Instagram'"
      ]
     },
     "execution_count": 7,
     "metadata": {},
     "output_type": "execute_result"
    }
   ],
   "source": [
    "file = json.load(open('database_dump_drugs/0.json'))\n",
    "article = file[0]['article_content']\n",
    "article"
   ]
  },
  {
   "cell_type": "code",
   "execution_count": 8,
   "metadata": {},
   "outputs": [],
   "source": [
    "pipeline = create_pipeline()\r\n",
    "doc = pipeline(article)"
   ]
  },
  {
   "cell_type": "code",
   "execution_count": 10,
   "metadata": {},
   "outputs": [
    {
     "name": "stdout",
     "output_type": "stream",
     "text": [
      "[{\n",
      "  \"text\": \"Ethiopian\",\n",
      "  \"type\": \"NORP\",\n",
      "  \"start_char\": 3,\n",
      "  \"end_char\": 12\n",
      "}, {\n",
      "  \"text\": \"Friday\",\n",
      "  \"type\": \"DATE\",\n",
      "  \"start_char\": 96,\n",
      "  \"end_char\": 102\n",
      "}, {\n",
      "  \"text\": \"6 October\",\n",
      "  \"type\": \"DATE\",\n",
      "  \"start_char\": 104,\n",
      "  \"end_char\": 113\n",
      "}]\n"
     ]
    }
   ],
   "source": [
    "_ = 0\r\n",
    "for sentence in doc.sentences:\r\n",
    "     if _ == 0:\r\n",
    "          print(sentence.ents)\r\n",
    "          _ += 1\r\n",
    "     else:\r\n",
    "          # do nothing\r\n",
    "          False"
   ]
  }
 ],
 "metadata": {
  "interpreter": {
   "hash": "529c65a099ec80885ec2eff43b42ddd85d3b5611c57bcaf738fb7ba7dbdb85b1"
  },
  "kernelspec": {
   "display_name": "Python 3.7.10 64-bit ('thesis': conda)",
   "name": "python3"
  },
  "language_info": {
   "name": "python",
   "version": ""
  }
 },
 "nbformat": 4,
 "nbformat_minor": 5
}
