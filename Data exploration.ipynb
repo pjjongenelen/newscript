{
 "cells": [
  {
   "cell_type": "code",
   "execution_count": 20,
   "metadata": {},
   "outputs": [],
   "source": [
    "import pandas as pd"
   ]
  },
  {
   "cell_type": "markdown",
   "metadata": {},
   "source": [
    "# MUC-4"
   ]
  },
  {
   "cell_type": "code",
   "execution_count": 271,
   "metadata": {},
   "outputs": [],
   "source": [
    "df = pd.read_csv('data/muc-dev-tst1-4', sep='\\t', header=None)"
   ]
  },
  {
   "cell_type": "code",
   "execution_count": 278,
   "metadata": {},
   "outputs": [],
   "source": [
    "df.columns = ['muc_id', 'text']"
   ]
  },
  {
   "cell_type": "code",
   "execution_count": 280,
   "metadata": {},
   "outputs": [
    {
     "data": {
      "text/plain": [
       "0       [SAN SALVADOR, 3 JAN 90 , THE ARCE BATTALION C...\n",
       "1       [SAN SALVADOR, 4 JAN 90 , ACCORDING TO STATEME...\n",
       "2       [SANTIAGO, 5 JAN 90 , THE GOVERNMENT JUNTA YES...\n",
       "3       [CLANDESTINE, 8 JAN 90 , GOODBYE GENERAL RAFAE...\n",
       "4       [CLANDESTINE, 8 JAN 90 , A WAR BULLETIN INDICA...\n",
       "                              ...                        \n",
       "1695    [RIO DE JANEIRO , 22 DEC 88 , SAO PAULO FEDERA...\n",
       "1696    [BOGOTA, 25 DEC 88 , THIS MORNING, THREE BOMBS...\n",
       "1697    [SAN SALVADOR, 22 DEC 88 , NATIONAL POLICE DIR...\n",
       "1698    [SANTIAGO, 21 DEC 88 , THE TERRORIST MANUEL RO...\n",
       "1699    [LIMA, 27 DEC 88 , THE PERUVIAN POLICE TODAY A...\n",
       "Name: text, Length: 1700, dtype: object"
      ]
     },
     "execution_count": 280,
     "metadata": {},
     "output_type": "execute_result"
    }
   ],
   "source": [
    "df['text']"
   ]
  }
 ],
 "metadata": {
  "interpreter": {
   "hash": "529c65a099ec80885ec2eff43b42ddd85d3b5611c57bcaf738fb7ba7dbdb85b1"
  },
  "kernelspec": {
   "display_name": "Python 3.7.10 64-bit ('thesis': conda)",
   "name": "python3"
  },
  "language_info": {
   "codemirror_mode": {
    "name": "ipython",
    "version": 3
   },
   "file_extension": ".py",
   "mimetype": "text/x-python",
   "name": "python",
   "nbconvert_exporter": "python",
   "pygments_lexer": "ipython3",
   "version": "3.7.10"
  }
 },
 "nbformat": 4,
 "nbformat_minor": 5
}
