{
 "cells": [
  {
   "cell_type": "code",
   "execution_count": 5,
   "metadata": {},
   "outputs": [],
   "source": [
    "import pandas as pd\n",
    "import pickle"
   ]
  },
  {
   "cell_type": "markdown",
   "metadata": {},
   "source": [
    "# Load all data"
   ]
  },
  {
   "cell_type": "code",
   "execution_count": 3,
   "metadata": {},
   "outputs": [
    {
     "name": "stdout",
     "output_type": "stream",
     "text": [
      "Loaded 0 out of 1572 articles\n",
      "Loaded 50 out of 1572 articles\n",
      "Loaded 100 out of 1572 articles\n",
      "Loaded 150 out of 1572 articles\n",
      "Loaded 200 out of 1572 articles\n",
      "Loaded 250 out of 1572 articles\n",
      "Loaded 300 out of 1572 articles\n",
      "Loaded 350 out of 1572 articles\n",
      "Loaded 400 out of 1572 articles\n",
      "Loaded 450 out of 1572 articles\n",
      "Loaded 500 out of 1572 articles\n",
      "Loaded 550 out of 1572 articles\n",
      "Loaded 600 out of 1572 articles\n",
      "Loaded 650 out of 1572 articles\n",
      "Loaded 700 out of 1572 articles\n",
      "Loaded 750 out of 1572 articles\n",
      "Loaded 800 out of 1572 articles\n",
      "Loaded 850 out of 1572 articles\n",
      "Loaded 900 out of 1572 articles\n",
      "Loaded 950 out of 1572 articles\n",
      "Loaded 1000 out of 1572 articles\n",
      "Loaded 1050 out of 1572 articles\n",
      "Loaded 1100 out of 1572 articles\n",
      "Loaded 1150 out of 1572 articles\n",
      "Loaded 1200 out of 1572 articles\n",
      "Loaded 1250 out of 1572 articles\n",
      "Loaded 1300 out of 1572 articles\n",
      "Loaded 1350 out of 1572 articles\n",
      "Loaded 1400 out of 1572 articles\n",
      "Loaded 1450 out of 1572 articles\n",
      "Loaded 1500 out of 1572 articles\n",
      "Loaded 1550 out of 1572 articles\n"
     ]
    }
   ],
   "source": [
    "df = pd.DataFrame()\n",
    "\n",
    "for x in range(1572):\n",
    "    df = df.append(pd.read_json(f'data/database_dump_drugs/{x}.json'))\n",
    "    if x % 50 == 0:\n",
    "        print(f'Loaded {x} out of 1572 files. {round((100*x)/1572)}%')"
   ]
  },
  {
   "cell_type": "code",
   "execution_count": 20,
   "metadata": {},
   "outputs": [
    {
     "name": "stdout",
     "output_type": "stream",
     "text": [
      "Size = 60488813\n",
      "Dimension = 2\n",
      "Shape = (785569, 77)\n"
     ]
    }
   ],
   "source": [
    "# general statistics\n",
    "print(f'Size = {df.size}')\n",
    "print(f'Dimension = {df.ndim}')\n",
    "print(f'Shape = {df.shape}')"
   ]
  },
  {
   "cell_type": "code",
   "execution_count": 12,
   "metadata": {},
   "outputs": [
    {
     "name": "stdout",
     "output_type": "stream",
     "text": [
      "Index(['date', 'article_domain', 'gdelt_MonthYear',\n",
      "       'gdelt_ActionGeo_CountryCode', 'gdelt_NumArticles',\n",
      "       'gdelt_EventRootCode_name', 'gdelt_Actor1Geo_CountryCode',\n",
      "       'gdelt_FractionDate', 'article_author', 'gdelt_Actor2Code',\n",
      "       'gdelt_EventBaseCode_id', 'gdelt_EventRootCode_id',\n",
      "       'gdelt_Actor2Religion1Code', 'gdelt_Year', 'id', 'article_contentRaw',\n",
      "       'gdelt_Actor1Type2Code', 'gdelt_Actor2CountryCode',\n",
      "       'gdelt_EventBaseCode_rating', 'gdelt_Actor1Code', 'gdelt_NumSources',\n",
      "       'gdelt_Actor2Geo_Type', 'gdelt_Actor2Geo_ADM2Code',\n",
      "       'gdelt_ActionGeo_Long', 'gdelt_Actor2Type3Code', 'article_title',\n",
      "       'article_subtitle', 'gdelt_Actor2EthnicCode', 'datasource',\n",
      "       'gdelt_Actor1Type1Code', 'gdelt_Actor2Geo_Lat', 'article_summary',\n",
      "       'gdelt_Actor1CountryCode', 'gdelt_ActionGeo_FeatureID',\n",
      "       'gdelt_EventBaseCode_name', 'gdelt_NumMentions', 'gdelt_AvgTone',\n",
      "       'gdelt_Actor2Type2Code', 'gdelt_Actor1Geo_Long', 'gdelt_Day',\n",
      "       'gdelt_Actor2Type1Code', 'gdelt_Actor1KnownGroupCode',\n",
      "       'gdelt_Actor2Geo_CountryCode', 'gdelt_QuadClass',\n",
      "       'gdelt_EventRootCode_rating', 'gdelt_SOURCEURL', 'gdelt_EventCode_name',\n",
      "       'gdelt_GoldsteinScale', 'article_source', 'gdelt_Actor1EthnicCode',\n",
      "       'gdelt_Actor1Geo_ADM2Code', 'gdelt_IsRootEvent',\n",
      "       'gdelt_Actor1Type3Code', 'gdelt_GlobalEventID', 'gdelt_EventCode_id',\n",
      "       'gdelt_Actor1Religion1Code', 'gdelt_Actor2Geo_ADM1Code',\n",
      "       'gdelt_Actor1Geo_ADM1Code', 'gdelt_Actor2KnownGroupCode',\n",
      "       'gdelt_DATEADDED', 'gdelt_Actor2Religion2Code', 'article_content',\n",
      "       'gdelt_Actor2Geo_Long', 'gdelt_Actor2Name', 'gdelt_ActionGeo_Type',\n",
      "       'article_geolocation', 'gdelt_Actor1Religion2Code',\n",
      "       'gdelt_ActionGeo_ADM1Code', 'gdelt_ActionGeo_ADM2Code',\n",
      "       'gdelt_EventCode_rating', 'gdelt_Actor1Name',\n",
      "       'gdelt_Actor1Geo_FeatureID', 'article_created_at',\n",
      "       'gdelt_Actor1Geo_Lat', 'gdelt_Actor1Geo_Type',\n",
      "       'gdelt_Actor2Geo_FeatureID', 'gdelt_ActionGeo_Lat'],\n",
      "      dtype='object')\n"
     ]
    },
    {
     "data": {
      "text/plain": [
       "77"
      ]
     },
     "execution_count": 12,
     "metadata": {},
     "output_type": "execute_result"
    }
   ],
   "source": [
    "# Let's see what columns we have\n",
    "print(df.columns)"
   ]
  },
  {
   "cell_type": "markdown",
   "metadata": {},
   "source": [
    "# Size reduction"
   ]
  },
  {
   "cell_type": "code",
   "execution_count": 23,
   "metadata": {},
   "outputs": [],
   "source": [
    "# Let's only keep those columns that are useful to us\n",
    "col_list = ['date', 'article_domain', 'gdelt_ActionGeo_CountryCode', 'article_author', 'article_contentRaw', 'article_subtitle', 'datasource', 'article_summary', 'article_source', 'article_geolocation', 'article_created_at']\n",
    "to_drop = list(set(df.columns) - set(col_list))\n",
    "df = df.drop(to_drop, axis = 1)"
   ]
  },
  {
   "cell_type": "code",
   "execution_count": 26,
   "metadata": {},
   "outputs": [
    {
     "data": {
      "text/plain": [
       "0.14285714285714285"
      ]
     },
     "execution_count": 26,
     "metadata": {},
     "output_type": "execute_result"
    }
   ],
   "source": [
    "# this reduces it to 14% of its original size\n",
    "df.size / 60488813"
   ]
  },
  {
   "cell_type": "code",
   "execution_count": 31,
   "metadata": {},
   "outputs": [
    {
     "data": {
      "text/plain": [
       "(785569, 11)"
      ]
     },
     "execution_count": 31,
     "metadata": {},
     "output_type": "execute_result"
    }
   ],
   "source": [
    "df.shape"
   ]
  }
 ],
 "metadata": {
  "interpreter": {
   "hash": "529c65a099ec80885ec2eff43b42ddd85d3b5611c57bcaf738fb7ba7dbdb85b1"
  },
  "kernelspec": {
   "display_name": "Python 3.7.10 64-bit ('thesis': conda)",
   "name": "python3"
  },
  "language_info": {
   "codemirror_mode": {
    "name": "ipython",
    "version": 3
   },
   "file_extension": ".py",
   "mimetype": "text/x-python",
   "name": "python",
   "nbconvert_exporter": "python",
   "pygments_lexer": "ipython3",
   "version": "3.7.10"
  }
 },
 "nbformat": 4,
 "nbformat_minor": 5
}
